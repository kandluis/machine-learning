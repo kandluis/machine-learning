{
 "metadata": {
  "name": "",
  "signature": "sha256:57c65769ac1f21c88343c49763ea025742c051ec687ad28d35b6ab5c716296da"
 },
 "nbformat": 3,
 "nbformat_minor": 0,
 "worksheets": [
  {
   "cells": [
    {
     "cell_type": "code",
     "collapsed": false,
     "input": [
      "# notebook used for testing random stuff\n",
      "import json\n",
      "featurefile = \"generative_features\"\n",
      "global_feat_dict = json.load(open(featurefile + \"_dict.save\"))"
     ],
     "language": "python",
     "metadata": {},
     "outputs": [],
     "prompt_number": 2
    },
    {
     "cell_type": "code",
     "collapsed": false,
     "input": [
      "len(global_feat_dict)"
     ],
     "language": "python",
     "metadata": {},
     "outputs": [
      {
       "metadata": {},
       "output_type": "pyout",
       "prompt_number": 3,
       "text": [
        "3289"
       ]
      }
     ],
     "prompt_number": 3
    },
    {
     "cell_type": "code",
     "collapsed": false,
     "input": [],
     "language": "python",
     "metadata": {},
     "outputs": []
    }
   ],
   "metadata": {}
  }
 ]
}