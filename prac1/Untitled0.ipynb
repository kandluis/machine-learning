{
 "metadata": {
  "name": "",
  "signature": "sha256:19f9500e568c20b0b31262addb48e7e85daa9d865581bb09fb772b7f1a62de7e"
 },
 "nbformat": 3,
 "nbformat_minor": 0,
 "worksheets": []
}