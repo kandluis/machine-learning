{
 "metadata": {
  "name": "",
  "signature": "sha256:63b5affe2f8e7e3b97a482c807acd882f98a8abf0bbb5280baa1e8bdf1fefcfd"
 },
 "nbformat": 3,
 "nbformat_minor": 0,
 "worksheets": [
  {
   "cells": [
    {
     "cell_type": "code",
     "collapsed": false,
     "input": [],
     "language": "python",
     "metadata": {},
     "outputs": [],
     "prompt_number": 1
    },
    {
     "cell_type": "code",
     "collapsed": false,
     "input": [],
     "language": "python",
     "metadata": {},
     "outputs": []
    }
   ],
   "metadata": {}
  }
 ]
}