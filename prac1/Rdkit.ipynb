{
 "metadata": {
  "name": "",
  "signature": "sha256:d3ee5a2742a3f8c525c64465a061102353324331295076e480bb36ea646747d2"
 },
 "nbformat": 3,
 "nbformat_minor": 0,
 "worksheets": [
  {
   "cells": [
    {
     "cell_type": "code",
     "collapsed": false,
     "input": [
      "import rdkit\n",
      "import pandas as pd\n",
      "import numpy as np\n",
      "from scipy.stats.stats import pearsonr \n",
      "from sklearn import linear_model\n",
      "from heapq import nlargest\n",
      "from rdkit import Chem\n"
     ],
     "language": "python",
     "metadata": {},
     "outputs": [],
     "prompt_number": 3
    },
    {
     "cell_type": "code",
     "collapsed": false,
     "input": [
      "fileName = \"test.csv\"\n",
      "rowsOperating = 100000\n",
      "train = pd.read_csv(fileName,nrows=rowsOperating)"
     ],
     "language": "python",
     "metadata": {},
     "outputs": [],
     "prompt_number": 4
    },
    {
     "cell_type": "code",
     "collapsed": false,
     "input": [
      "from rdkit.Chem import AllChem\n",
      "\n",
      "m = Chem.MolFromSmiles(train.smiles[0])\n",
      "x1 = AllChem.GetMorganFingerprintAsBitVect(m, 1, nBits=512, useFeatures=True)\n",
      "x2= AllChem.GetMorganFingerprintAsBitVect(m, 2, nBits=512, useFeatures=True)\n",
      "x3 = AllChem.GetMorganFingerprintAsBitVect(m, 3, nBits=1024, useFeatures=True)\n",
      "x4 = AllChem.GetHashedAtomPairFingerprintAsBitVect(m, nBits=256)\n",
      "x5 = AllChem.GetHashedTopologicalTorsionFingerprintAsBitVect(m , nBits=256)\n",
      "new_row = (x1 + x2 + x3 + x4 + x5)\n",
      "features = new_row"
     ],
     "language": "python",
     "metadata": {},
     "outputs": [],
     "prompt_number": 5
    },
    {
     "cell_type": "code",
     "collapsed": false,
     "input": [
      "for i in range(1,len(train.smiles)):\n",
      "    if(i %10000 == 0):\n",
      "        print i\n",
      "    m = Chem.MolFromSmiles(train.smiles[i])\n",
      "    x1 = AllChem.GetMorganFingerprintAsBitVect(m, 1, nBits=512, useFeatures=True)\n",
      "    x2= AllChem.GetMorganFingerprintAsBitVect(m, 2, nBits=512, useFeatures=True)\n",
      "    x3 = AllChem.GetMorganFingerprintAsBitVect(m, 3, nBits=1024, useFeatures=True)\n",
      "    x4 = AllChem.GetHashedAtomPairFingerprintAsBitVect(m, nBits=256)\n",
      "    x5 = AllChem.GetHashedTopologicalTorsionFingerprintAsBitVect(m , nBits=256)\n",
      "    new_row = x1 + x2 + x3 + x4 + x5\n",
      "    features = features + new_row"
     ],
     "language": "python",
     "metadata": {},
     "outputs": [
      {
       "output_type": "stream",
       "stream": "stdout",
       "text": [
        "10000\n",
        "20000"
       ]
      },
      {
       "output_type": "stream",
       "stream": "stdout",
       "text": [
        "\n",
        "30000"
       ]
      },
      {
       "output_type": "stream",
       "stream": "stdout",
       "text": [
        "\n",
        "40000"
       ]
      },
      {
       "output_type": "stream",
       "stream": "stdout",
       "text": [
        "\n",
        "50000"
       ]
      },
      {
       "output_type": "stream",
       "stream": "stdout",
       "text": [
        "\n",
        "60000"
       ]
      },
      {
       "output_type": "stream",
       "stream": "stdout",
       "text": [
        "\n",
        "70000"
       ]
      },
      {
       "output_type": "stream",
       "stream": "stdout",
       "text": [
        "\n",
        "80000"
       ]
      },
      {
       "output_type": "stream",
       "stream": "stdout",
       "text": [
        "\n",
        "90000"
       ]
      },
      {
       "output_type": "stream",
       "stream": "stdout",
       "text": [
        "\n"
       ]
      }
     ],
     "prompt_number": 6
    },
    {
     "cell_type": "code",
     "collapsed": false,
     "input": [
      "len(features)"
     ],
     "language": "python",
     "metadata": {},
     "outputs": [
      {
       "metadata": {},
       "output_type": "pyout",
       "prompt_number": 7,
       "text": [
        "256000000"
       ]
      }
     ],
     "prompt_number": 7
    },
    {
     "cell_type": "code",
     "collapsed": false,
     "input": [
      "new_feats = np.array(features)"
     ],
     "language": "python",
     "metadata": {},
     "outputs": [],
     "prompt_number": 8
    },
    {
     "cell_type": "code",
     "collapsed": false,
     "input": [
      "new_feats = new_feats.reshape(rowsOperating,2560)"
     ],
     "language": "python",
     "metadata": {},
     "outputs": [],
     "prompt_number": 9
    },
    {
     "cell_type": "code",
     "collapsed": false,
     "input": [
      "new_feats.shape"
     ],
     "language": "python",
     "metadata": {},
     "outputs": [
      {
       "metadata": {},
       "output_type": "pyout",
       "prompt_number": 10,
       "text": [
        "(100000, 2560)"
       ]
      }
     ],
     "prompt_number": 10
    },
    {
     "cell_type": "code",
     "collapsed": false,
     "input": [
      "a = pd.DataFrame(new_feats)"
     ],
     "language": "python",
     "metadata": {},
     "outputs": [],
     "prompt_number": 11
    },
    {
     "cell_type": "code",
     "collapsed": false,
     "input": [
      "a.to_csv(\"testing_0\")"
     ],
     "language": "python",
     "metadata": {},
     "outputs": [],
     "prompt_number": 12
    },
    {
     "cell_type": "code",
     "collapsed": false,
     "input": [],
     "language": "python",
     "metadata": {},
     "outputs": []
    }
   ],
   "metadata": {}
  }
 ]
}