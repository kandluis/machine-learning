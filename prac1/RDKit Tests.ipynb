{
 "metadata": {
  "name": "",
  "signature": "sha256:2058cff64745d295a245f9228aa5278aab9759c47dae86637ae754a4164066e6"
 },
 "nbformat": 3,
 "nbformat_minor": 0,
 "worksheets": []
}