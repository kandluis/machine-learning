{
 "metadata": {
  "name": "",
  "signature": "sha256:d114dfb9f882b0d95cd3b0b4d40f898e85bd95d92ed74fdb5fced3d417afe3b3"
 },
 "nbformat": 3,
 "nbformat_minor": 0,
 "worksheets": [
  {
   "cells": [
    {
     "cell_type": "code",
     "collapsed": false,
     "input": [
      "import pandas as pd\n",
      "import numpy as np\n",
      "\n",
      "from matplotlib import pylab as plt"
     ],
     "language": "python",
     "metadata": {},
     "outputs": [],
     "prompt_number": 1
    },
    {
     "cell_type": "code",
     "collapsed": false,
     "input": [
      "gradefile = \"cs124.csv\"\n",
      "grades = pd.read_csv(gradefile)"
     ],
     "language": "python",
     "metadata": {},
     "outputs": [],
     "prompt_number": 2
    },
    {
     "cell_type": "code",
     "collapsed": false,
     "input": [
      "len(grades[grades.Section != 'COLGSAS COMPSCI 124'])"
     ],
     "language": "python",
     "metadata": {},
     "outputs": [
      {
       "metadata": {},
       "output_type": "pyout",
       "prompt_number": 47,
       "text": [
        "47"
       ]
      }
     ],
     "prompt_number": 47
    },
    {
     "cell_type": "code",
     "collapsed": false,
     "input": [
      "def getpset(pset,extension=False):\n",
      "    if extension:\n",
      "        subset = grades[grades.Section != 'COLGSAS COMPSCI 124']\n",
      "        # remove students who scored a 0 assuming they've dropped the class\n",
      "        \n",
      "    else:\n",
      "        subset = grades[grades.Section == 'COLGSAS COMPSCI 124']\n",
      "        \n",
      "    assert(len(subset) != len(grades))\n",
      "    # make prettry\n",
      "    import re\n",
      "    subset = subset.filter(regex=pset)\n",
      "    subset.columns = [re.sub(r'\\([^)]*\\)', '', name) for name in subset.columns]\n",
      "    \n",
      "    subset = subset.convert_objects(convert_numeric=True)\n",
      "    \n",
      "    # we remove user who received a score of zero if from extension\n",
      "    if extension:\n",
      "        subset = subset[subset[subset.columns[-1]] != 0]\n",
      "    \n",
      "    return subset"
     ],
     "language": "python",
     "metadata": {},
     "outputs": [],
     "prompt_number": 101
    },
    {
     "cell_type": "code",
     "collapsed": false,
     "input": [
      "pset5 = getpset(\"Problem Set 5|Pset 5\")\n",
      "pset5e = getpset(\"Problem Set 5|Pset 5\", True)\n",
      "pset6 = getpset(\"Problem Set 6|Pset 6\")\n",
      "pset6e = getpset(\"Problem Set 6|Pset 6\", True)"
     ],
     "language": "python",
     "metadata": {},
     "outputs": [],
     "prompt_number": 102
    },
    {
     "cell_type": "code",
     "collapsed": false,
     "input": [
      "len(pset6e)"
     ],
     "language": "python",
     "metadata": {},
     "outputs": [
      {
       "metadata": {},
       "output_type": "pyout",
       "prompt_number": 104,
       "text": [
        "22"
       ]
      }
     ],
     "prompt_number": 104
    },
    {
     "cell_type": "code",
     "collapsed": false,
     "input": [
      "corr6 = pset6.ix[:,:5].cov()\n",
      "corr5 = pset5.ix[:,:5].cov()\n",
      "corr5e = pset5e.ix[:,:5].cov()\n",
      "corr6e = pset6e.ix[:,:5].cov()\n",
      "corr6.head()"
     ],
     "language": "python",
     "metadata": {},
     "outputs": [
      {
       "html": [
        "<div style=\"max-height:1000px;max-width:1500px;overflow:auto;\">\n",
        "<table border=\"1\" class=\"dataframe\">\n",
        "  <thead>\n",
        "    <tr style=\"text-align: right;\">\n",
        "      <th></th>\n",
        "      <th>Pset 6, Problem 1 </th>\n",
        "      <th>Pset 6, Problem 2 </th>\n",
        "      <th>Pset 6, Problem 3 </th>\n",
        "      <th>Pset 6, Problem 4 </th>\n",
        "      <th>Pset 6, Problem 5 </th>\n",
        "    </tr>\n",
        "  </thead>\n",
        "  <tbody>\n",
        "    <tr>\n",
        "      <th>Pset 6, Problem 1 </th>\n",
        "      <td> 4.972419</td>\n",
        "      <td>  3.296868</td>\n",
        "      <td> 1.830475</td>\n",
        "      <td> 2.211774</td>\n",
        "      <td> 1.876208</td>\n",
        "    </tr>\n",
        "    <tr>\n",
        "      <th>Pset 6, Problem 2 </th>\n",
        "      <td> 3.296868</td>\n",
        "      <td> 12.238999</td>\n",
        "      <td> 4.101189</td>\n",
        "      <td> 4.868988</td>\n",
        "      <td> 2.120012</td>\n",
        "    </tr>\n",
        "    <tr>\n",
        "      <th>Pset 6, Problem 3 </th>\n",
        "      <td> 1.830475</td>\n",
        "      <td>  4.101189</td>\n",
        "      <td> 5.559646</td>\n",
        "      <td> 2.368988</td>\n",
        "      <td> 2.183283</td>\n",
        "    </tr>\n",
        "    <tr>\n",
        "      <th>Pset 6, Problem 4 </th>\n",
        "      <td> 2.211774</td>\n",
        "      <td>  4.868988</td>\n",
        "      <td> 2.368988</td>\n",
        "      <td> 6.129353</td>\n",
        "      <td> 2.017474</td>\n",
        "    </tr>\n",
        "    <tr>\n",
        "      <th>Pset 6, Problem 5 </th>\n",
        "      <td> 1.876208</td>\n",
        "      <td>  2.120012</td>\n",
        "      <td> 2.183283</td>\n",
        "      <td> 2.017474</td>\n",
        "      <td> 8.415096</td>\n",
        "    </tr>\n",
        "  </tbody>\n",
        "</table>\n",
        "</div>"
       ],
       "metadata": {},
       "output_type": "pyout",
       "prompt_number": 105,
       "text": [
        "                    Pset 6, Problem 1   Pset 6, Problem 2   \\\n",
        "Pset 6, Problem 1             4.972419            3.296868   \n",
        "Pset 6, Problem 2             3.296868           12.238999   \n",
        "Pset 6, Problem 3             1.830475            4.101189   \n",
        "Pset 6, Problem 4             2.211774            4.868988   \n",
        "Pset 6, Problem 5             1.876208            2.120012   \n",
        "\n",
        "                    Pset 6, Problem 3   Pset 6, Problem 4   Pset 6, Problem 5   \n",
        "Pset 6, Problem 1             1.830475            2.211774            1.876208  \n",
        "Pset 6, Problem 2             4.101189            4.868988            2.120012  \n",
        "Pset 6, Problem 3             5.559646            2.368988            2.183283  \n",
        "Pset 6, Problem 4             2.368988            6.129353            2.017474  \n",
        "Pset 6, Problem 5             2.183283            2.017474            8.415096  "
       ]
      }
     ],
     "prompt_number": 105
    },
    {
     "cell_type": "code",
     "collapsed": false,
     "input": [
      "%matplotlib\n",
      "import seaborn as sns\n",
      "\n",
      "def make_corr_plot(d, title=\"plot\"):\n",
      "    f, ax = plt.subplots(figsize=(9, 9))\n",
      "    cmap = sns.diverging_palette(220, 10, as_cmap=True)\n",
      "    sns.corrplot(d, annot=False, sig_stars=False,\n",
      "                 diag_names=False, cmap=cmap, ax=ax)\n",
      "    f.tight_layout()\n",
      "    plt.title(title)\n",
      "    f.savefig(title)"
     ],
     "language": "python",
     "metadata": {},
     "outputs": [
      {
       "output_type": "stream",
       "stream": "stdout",
       "text": [
        "Using matplotlib backend: agg\n"
       ]
      }
     ],
     "prompt_number": 106
    },
    {
     "cell_type": "code",
     "collapsed": false,
     "input": [
      "pset6.columns"
     ],
     "language": "python",
     "metadata": {},
     "outputs": [
      {
       "metadata": {},
       "output_type": "pyout",
       "prompt_number": 107,
       "text": [
        "Index([u'Pset 6, Problem 1 ', u'Pset 6, Problem 2 ', u'Pset 6, Problem 3 ', u'Pset 6, Problem 4 ', u'Pset 6, Problem 5 ', u'Problem Set 6 Current Score', u'Problem Set 6 Final Score'], dtype='object')"
       ]
      }
     ],
     "prompt_number": 107
    },
    {
     "cell_type": "code",
     "collapsed": false,
     "input": [
      "make_corr_plot(corr6, \"pset6_corr\")\n",
      "make_corr_plot(corr5, \"pset5_corr\")\n",
      "make_corr_plot(corr6e, \"pset6e_corr\")\n",
      "make_corr_plot(corr5e, \"pset5e_corr\")"
     ],
     "language": "python",
     "metadata": {},
     "outputs": [],
     "prompt_number": 108
    },
    {
     "cell_type": "code",
     "collapsed": false,
     "input": [
      "def make_histogram(d, title=\"histogram\",numBins=10):\n",
      "    fig = plt.figure()\n",
      "    ax = fig.add_subplot(111)\n",
      "    d = d.dropna()\n",
      "    nd = []\n",
      "    for el in d:\n",
      "        try:\n",
      "            if el != 0:\n",
      "                nd.append(float(el))\n",
      "            else:\n",
      "                print \"Removed grade\"\n",
      "        except ValueError:\n",
      "            pass\n",
      "    ax.hist(nd,numBins,alpha=0.8)\n",
      "    plt.title(title + \"histogram\")\n",
      "    \n",
      "    fig.savefig(title + \".png\")"
     ],
     "language": "python",
     "metadata": {},
     "outputs": [],
     "prompt_number": 109
    },
    {
     "cell_type": "code",
     "collapsed": false,
     "input": [
      "make_histogram(pset6['Problem Set 6 Final Score'], 'pset6_hist', 10)\n",
      "make_histogram(pset6e['Problem Set 6 Final Score'], 'pset6e_hist', 5)\n",
      "make_histogram(pset5e['Problem Set 5 Final Score'], 'pset5e_hist',5)\n",
      "make_histogram(pset5['Problem Set 5 Final Score'], 'pset5_hist',10)"
     ],
     "language": "python",
     "metadata": {},
     "outputs": [],
     "prompt_number": 110
    },
    {
     "cell_type": "code",
     "collapsed": false,
     "input": [
      "# on campus mean\n",
      "def stats(pset):\n",
      "    print \"{:.2f} (standard deviation {:.2f}) and median {:.2f}\".format(np.mean(pset), np.std(pset),np.median(pset))"
     ],
     "language": "python",
     "metadata": {},
     "outputs": [],
     "prompt_number": 111
    },
    {
     "cell_type": "code",
     "collapsed": false,
     "input": [
      "stats(pset6e['Problem Set 6 Final Score'])"
     ],
     "language": "python",
     "metadata": {},
     "outputs": [
      {
       "output_type": "stream",
       "stream": "stdout",
       "text": [
        "67.03 (standard deviation 20.65) and median 76.75\n"
       ]
      }
     ],
     "prompt_number": 115
    },
    {
     "cell_type": "code",
     "collapsed": false,
     "input": [],
     "language": "python",
     "metadata": {},
     "outputs": []
    }
   ],
   "metadata": {}
  }
 ]
}