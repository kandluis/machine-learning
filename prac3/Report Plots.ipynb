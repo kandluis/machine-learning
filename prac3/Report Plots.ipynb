{
 "metadata": {
  "name": "",
  "signature": "sha256:808b4d1105c4134a123a0f7857ca8e76530f78516450eed681477b6a22b3ac0f"
 },
 "nbformat": 3,
 "nbformat_minor": 0,
 "worksheets": [
  {
   "cells": [
    {
     "cell_type": "code",
     "collapsed": false,
     "input": [
      "# standard libraries\n",
      "import numpy as np\n",
      "import pandas as pd\n",
      "\n",
      "# for plotting\n",
      "import matplotlib.pyplot as plt\n",
      "import pickle\n",
      "\n",
      "# for interpreting data\n",
      "from pyechonest import artist\n",
      "\n",
      "# for machine learning\n",
      "from sklearn.ensemble import RandomForestRegressor as rf\n",
      "from scipy.sparse import coo_matrix\n",
      "\n",
      "from pyechonest import config\n",
      "config.ECHO_NEST_API_KEY='EIVX1I4WCCD7FQRFV'\n",
      "\n",
      "# turn off to avoid displaying test output\n",
      "display = False"
     ],
     "language": "python",
     "metadata": {},
     "outputs": [],
     "prompt_number": 1
    },
    {
     "cell_type": "code",
     "collapsed": false,
     "input": [
      "qfile = \"adjusted_quantiles_thing.csv\""
     ],
     "language": "python",
     "metadata": {},
     "outputs": [],
     "prompt_number": 2
    },
    {
     "cell_type": "code",
     "collapsed": false,
     "input": [
      "qdata = pd.read_csv(qfile)"
     ],
     "language": "python",
     "metadata": {},
     "outputs": [],
     "prompt_number": 3
    },
    {
     "cell_type": "code",
     "collapsed": false,
     "input": [
      "%matplotlib\n",
      "plt.hist(qdata[qdata.plays < 3500].plays, bins=40)\n",
      "plt.title(\"Quantile Predictions truncated at 3500\")\n",
      "plt.xlabel(\"Number of Play Counts\")\n",
      "plt.ylabel(\"Play Counts\")"
     ],
     "language": "python",
     "metadata": {},
     "outputs": [
      {
       "output_type": "stream",
       "stream": "stdout",
       "text": [
        "Using matplotlib backend: TkAgg\n"
       ]
      },
      {
       "metadata": {},
       "output_type": "pyout",
       "prompt_number": 10,
       "text": [
        "<matplotlib.text.Text at 0x1f3df668>"
       ]
      }
     ],
     "prompt_number": 10
    },
    {
     "cell_type": "code",
     "collapsed": false,
     "input": [
      "bfile = \"kevs_rocks.csv\"\n",
      "bdata = pd.read_csv(bfile)"
     ],
     "language": "python",
     "metadata": {},
     "outputs": [],
     "prompt_number": 12
    },
    {
     "cell_type": "code",
     "collapsed": false,
     "input": [
      "plt.hist(bdata[bdata.plays < 3500].plays, bins=40)\n",
      "plt.title(\"Normal Prediction truncated at 3500\")\n",
      "plt.xlabel(\"Number of Play Counts\")\n",
      "plt.ylabel(\"Play Counts\")"
     ],
     "language": "python",
     "metadata": {},
     "outputs": [
      {
       "metadata": {},
       "output_type": "pyout",
       "prompt_number": 13,
       "text": [
        "<matplotlib.text.Text at 0x1f3df668>"
       ]
      }
     ],
     "prompt_number": 13
    },
    {
     "cell_type": "code",
     "collapsed": false,
     "input": [
      "plt.title(\"Quantile (blue) and Normal (green) Predictions\")"
     ],
     "language": "python",
     "metadata": {},
     "outputs": [
      {
       "metadata": {},
       "output_type": "pyout",
       "prompt_number": 14,
       "text": [
        "<matplotlib.text.Text at 0x1f5ca7b8>"
       ]
      }
     ],
     "prompt_number": 14
    },
    {
     "cell_type": "code",
     "collapsed": false,
     "input": [
      "f = plt.figure()\n",
      "plt.hist(np.log(bdata[bdata.plays < 3500].plays), bins=40)\n",
      "plt.title(\"Log of Normal Prediction truncated at 3500\")\n",
      "plt.xlabel(\"Number of Log Play Counts\")\n",
      "plt.ylabel(\"Log Play Counts\")"
     ],
     "language": "python",
     "metadata": {},
     "outputs": [
      {
       "metadata": {},
       "output_type": "pyout",
       "prompt_number": 16,
       "text": [
        "<matplotlib.text.Text at 0x1f9a3208>"
       ]
      }
     ],
     "prompt_number": 16
    },
    {
     "cell_type": "code",
     "collapsed": false,
     "input": [],
     "language": "python",
     "metadata": {},
     "outputs": []
    }
   ],
   "metadata": {}
  }
 ]
}