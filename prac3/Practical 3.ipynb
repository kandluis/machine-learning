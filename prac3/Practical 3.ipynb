{
 "metadata": {
  "name": "",
  "signature": "sha256:4a7b9003bd4fa96071c30953f86ec46cabd065731c42f99b1be5f4bd541f5d7f"
 },
 "nbformat": 3,
 "nbformat_minor": 0,
 "worksheets": [
  {
   "cells": [
    {
     "cell_type": "code",
     "collapsed": false,
     "input": [
      "import numpy as np\n",
      "import pandas as pd\n",
      "from sklearn.cluster import KMeans"
     ],
     "language": "python",
     "metadata": {},
     "outputs": [],
     "prompt_number": 30
    },
    {
     "cell_type": "code",
     "collapsed": false,
     "input": [
      "load_test = True\n",
      "load_train = True"
     ],
     "language": "python",
     "metadata": {},
     "outputs": [],
     "prompt_number": 31
    },
    {
     "cell_type": "code",
     "collapsed": false,
     "input": [
      "# load training data\n",
      "train = pd.read_csv(\"train.csv\") if load_test else None"
     ],
     "language": "python",
     "metadata": {},
     "outputs": [],
     "prompt_number": 32
    },
    {
     "cell_type": "code",
     "collapsed": false,
     "input": [
      "test = pd.read_csv(\"test.csv\") if load_train else None"
     ],
     "language": "python",
     "metadata": {},
     "outputs": [],
     "prompt_number": 22
    },
    {
     "cell_type": "code",
     "collapsed": false,
     "input": [
      "artists = pd.read_csv(\"artists.csv\")"
     ],
     "language": "python",
     "metadata": {},
     "outputs": [],
     "prompt_number": 10
    },
    {
     "cell_type": "code",
     "collapsed": false,
     "input": [
      "artists.head()"
     ],
     "language": "python",
     "metadata": {},
     "outputs": [
      {
       "html": [
        "<div style=\"max-height:1000px;max-width:1500px;overflow:auto;\">\n",
        "<table border=\"1\" class=\"dataframe\">\n",
        "  <thead>\n",
        "    <tr style=\"text-align: right;\">\n",
        "      <th></th>\n",
        "      <th>artist</th>\n",
        "      <th>name</th>\n",
        "    </tr>\n",
        "  </thead>\n",
        "  <tbody>\n",
        "    <tr>\n",
        "      <th>0</th>\n",
        "      <td> 03098741-08b3-4dd7-b3f6-1b0bfa2c879c</td>\n",
        "      <td>                   Liars</td>\n",
        "    </tr>\n",
        "    <tr>\n",
        "      <th>1</th>\n",
        "      <td> 69c4cc43-8163-41c5-ac81-30946d27bb69</td>\n",
        "      <td>         CunninLynguists</td>\n",
        "    </tr>\n",
        "    <tr>\n",
        "      <th>2</th>\n",
        "      <td> 7a2e6b55-f149-4e74-be6a-30a1b1a387bb</td>\n",
        "      <td>     The Desert Sessions</td>\n",
        "    </tr>\n",
        "    <tr>\n",
        "      <th>3</th>\n",
        "      <td> 7002bf88-1269-4965-a772-4ba1e7a91eaa</td>\n",
        "      <td>             Glenn Gould</td>\n",
        "    </tr>\n",
        "    <tr>\n",
        "      <th>4</th>\n",
        "      <td> dbf7c761-e332-467b-b4d9-aafe06bbcf8f</td>\n",
        "      <td> G. Love &amp; Special Sauce</td>\n",
        "    </tr>\n",
        "  </tbody>\n",
        "</table>\n",
        "</div>"
       ],
       "metadata": {},
       "output_type": "pyout",
       "prompt_number": 11,
       "text": [
        "                                 artist                     name\n",
        "0  03098741-08b3-4dd7-b3f6-1b0bfa2c879c                    Liars\n",
        "1  69c4cc43-8163-41c5-ac81-30946d27bb69          CunninLynguists\n",
        "2  7a2e6b55-f149-4e74-be6a-30a1b1a387bb      The Desert Sessions\n",
        "3  7002bf88-1269-4965-a772-4ba1e7a91eaa              Glenn Gould\n",
        "4  dbf7c761-e332-467b-b4d9-aafe06bbcf8f  G. Love & Special Sauce"
       ]
      }
     ],
     "prompt_number": 11
    },
    {
     "cell_type": "code",
     "collapsed": false,
     "input": [
      "profiles = pd.read_csv(\"profiles.csv\")"
     ],
     "language": "python",
     "metadata": {},
     "outputs": [],
     "prompt_number": 12
    },
    {
     "cell_type": "code",
     "collapsed": false,
     "input": [
      "#Turn sex data numerical\n",
      "profiles.sex[profiles.sex == 'f'] = 1\n",
      "profiles.sex[profiles.sex == 'm'] = 0\n",
      "profiles.sex[(profiles.sex != 0) & (profiles.sex != 1)] = 0.5\n",
      "\n",
      "#impute missing age with mean age\n",
      "profiles[pd.isnull(profiles.age)] = np.mean(profiles.age)\n",
      "\n",
      "#dictionary of artists \"hash\" to name to help interpret groups\n",
      "bands = {artists.artist[i]:artists.name[i] for i in xrange(len(artists))}"
     ],
     "language": "python",
     "metadata": {},
     "outputs": [],
     "prompt_number": 18
    },
    {
     "cell_type": "code",
     "collapsed": false,
     "input": [
      "profiles.sex"
     ],
     "language": "python",
     "metadata": {},
     "outputs": [
      {
       "metadata": {},
       "output_type": "pyout",
       "prompt_number": 33,
       "text": [
        "0       1\n",
        "1       0\n",
        "2       0\n",
        "3       0\n",
        "4       0\n",
        "5       0\n",
        "6     0.5\n",
        "7     0.5\n",
        "8     0.5\n",
        "9     0.5\n",
        "10      0\n",
        "11      0\n",
        "12      0\n",
        "13      0\n",
        "14      1\n",
        "...\n",
        "233271      0\n",
        "233272      1\n",
        "233273      1\n",
        "233274      0\n",
        "233275    0.5\n",
        "233276      0\n",
        "233277      0\n",
        "233278      1\n",
        "233279      1\n",
        "233280      0\n",
        "233281      0\n",
        "233282      1\n",
        "233283    0.5\n",
        "233284      0\n",
        "233285      0\n",
        "Name: sex, Length: 233286, dtype: object"
       ]
      }
     ],
     "prompt_number": 33
    },
    {
     "cell_type": "code",
     "collapsed": false,
     "input": [
      "len(np.unique(profiles.country))"
     ],
     "language": "python",
     "metadata": {},
     "outputs": [
      {
       "metadata": {},
       "output_type": "pyout",
       "prompt_number": 23,
       "text": [
        "239"
       ]
      }
     ],
     "prompt_number": 23
    },
    {
     "cell_type": "code",
     "collapsed": false,
     "input": [
      "len(profiles)"
     ],
     "language": "python",
     "metadata": {},
     "outputs": [
      {
       "metadata": {},
       "output_type": "pyout",
       "prompt_number": 24,
       "text": [
        "233286"
       ]
      }
     ],
     "prompt_number": 24
    },
    {
     "cell_type": "code",
     "collapsed": false,
     "input": [
      "sum(profiles.sex == 0.5)"
     ],
     "language": "python",
     "metadata": {},
     "outputs": [
      {
       "metadata": {},
       "output_type": "pyout",
       "prompt_number": 34,
       "text": [
        "55432"
       ]
      }
     ],
     "prompt_number": 34
    },
    {
     "cell_type": "code",
     "collapsed": false,
     "input": [
      "test.head()"
     ],
     "language": "python",
     "metadata": {},
     "outputs": [
      {
       "html": [
        "<div style=\"max-height:1000px;max-width:1500px;overflow:auto;\">\n",
        "<table border=\"1\" class=\"dataframe\">\n",
        "  <thead>\n",
        "    <tr style=\"text-align: right;\">\n",
        "      <th></th>\n",
        "      <th>Id</th>\n",
        "      <th>user</th>\n",
        "      <th>artist</th>\n",
        "    </tr>\n",
        "  </thead>\n",
        "  <tbody>\n",
        "    <tr>\n",
        "      <th>0</th>\n",
        "      <td> 1</td>\n",
        "      <td> 306e19cce2522fa2d39ff5dfc870992100ec22d2</td>\n",
        "      <td> 4ac4e32b-bd18-402e-adad-ae00e72f8d85</td>\n",
        "    </tr>\n",
        "    <tr>\n",
        "      <th>1</th>\n",
        "      <td> 2</td>\n",
        "      <td> 9450d351278df4938bdea4ed86aec940a4e927ac</td>\n",
        "      <td> 1f574ab1-a46d-4586-9331-f0ded23e0411</td>\n",
        "    </tr>\n",
        "    <tr>\n",
        "      <th>2</th>\n",
        "      <td> 3</td>\n",
        "      <td> 801909d6955f59033c88595d3d7f8a6a5dcd53cc</td>\n",
        "      <td> 3eb72791-6322-466b-87d3-24d74901eb2d</td>\n",
        "    </tr>\n",
        "    <tr>\n",
        "      <th>3</th>\n",
        "      <td> 4</td>\n",
        "      <td> e3ed47445c127fbeff47fb58f6bbf2f3b4535d82</td>\n",
        "      <td> 61604b45-8a91-4e33-a1b6-45d7b1fec4e5</td>\n",
        "    </tr>\n",
        "    <tr>\n",
        "      <th>4</th>\n",
        "      <td> 5</td>\n",
        "      <td> a73f46652103f3a5f7429159310f6928f79644aa</td>\n",
        "      <td> 5dfdca28-9ddc-4853-933c-8bc97d87beec</td>\n",
        "    </tr>\n",
        "  </tbody>\n",
        "</table>\n",
        "</div>"
       ],
       "metadata": {},
       "output_type": "pyout",
       "prompt_number": 39,
       "text": [
        "   Id                                      user  \\\n",
        "0   1  306e19cce2522fa2d39ff5dfc870992100ec22d2   \n",
        "1   2  9450d351278df4938bdea4ed86aec940a4e927ac   \n",
        "2   3  801909d6955f59033c88595d3d7f8a6a5dcd53cc   \n",
        "3   4  e3ed47445c127fbeff47fb58f6bbf2f3b4535d82   \n",
        "4   5  a73f46652103f3a5f7429159310f6928f79644aa   \n",
        "\n",
        "                                 artist  \n",
        "0  4ac4e32b-bd18-402e-adad-ae00e72f8d85  \n",
        "1  1f574ab1-a46d-4586-9331-f0ded23e0411  \n",
        "2  3eb72791-6322-466b-87d3-24d74901eb2d  \n",
        "3  61604b45-8a91-4e33-a1b6-45d7b1fec4e5  \n",
        "4  5dfdca28-9ddc-4853-933c-8bc97d87beec  "
       ]
      }
     ],
     "prompt_number": 39
    },
    {
     "cell_type": "code",
     "collapsed": false,
     "input": [
      "# load additional user artist similarity data from local file\n",
      "import cPickle as pickle\n",
      "\n",
      "# assumes key is the name of a file with .p extension in same directory\n",
      "datafiles = ['similar_artists', 'artist_hotness', 'could_not_find']\n",
      "artistInfo = {key: pickle.load(open(key + '.p')) for key in datafiles}"
     ],
     "language": "python",
     "metadata": {},
     "outputs": [],
     "prompt_number": 49
    },
    {
     "cell_type": "code",
     "collapsed": false,
     "input": [
      "similar_artists = {key: artistInfo['similar_artists']['2Pac'] for key in artistInfo['similar_artists']}"
     ],
     "language": "python",
     "metadata": {},
     "outputs": [],
     "prompt_number": 67
    },
    {
     "cell_type": "code",
     "collapsed": false,
     "input": [
      "def index_mappings(data):\n",
      "    for i,user in enumerate(data.user)\n",
      "\n",
      "from scipy.sparse import csr_matrix\n",
      "\n",
      "# we implement an algorithm to load our user/artist data into a sparce matrix\n",
      "def create_sparse_data_matrix(data):\n",
      "    userToRow, rowToUser = {},{}\n",
      "    for i,user in enumerate(data.user):\n",
      "        if user not in userToRow:\n",
      "            userToRow[]\n",
      "    "
     ],
     "language": "python",
     "metadata": {},
     "outputs": []
    }
   ],
   "metadata": {}
  }
 ]
}