{
 "metadata": {
  "name": "",
  "signature": "sha256:6cb3b9ec894bc23578924f6f9bb7a4941eb60016a7dc29ac9d137a6ddac00d1a"
 },
 "nbformat": 3,
 "nbformat_minor": 0,
 "worksheets": [
  {
   "cells": [
    {
     "cell_type": "code",
     "collapsed": false,
     "input": [
      "# standard libraries\n",
      "import numpy as np\n",
      "import pandas as pd\n",
      "\n",
      "# for plotting\n",
      "import matplotlib.pyplot as plt\n",
      "import pickle\n",
      "\n",
      "# for interpreting data\n",
      "from pyechonest import artist\n",
      "\n",
      "# for machine learning\n",
      "from sklearn.ensemble import RandomForestRegressor as rf\n",
      "from scipy.sparse import coo_matrix\n",
      "\n",
      "from pyechonest import config\n",
      "config.ECHO_NEST_API_KEY='EIVX1I4WCCD7FQRFV'\n",
      "\n",
      "# turn off to avoid displaying test output\n",
      "display = False"
     ],
     "language": "python",
     "metadata": {},
     "outputs": [],
     "prompt_number": 1
    },
    {
     "cell_type": "code",
     "collapsed": false,
     "input": [
      "trainfile = \"train.csv\"\n",
      "testfile = \"test.csv\"\n",
      "artistfile = \"artists.csv\"\n",
      "userfile = \"profiles.csv\""
     ],
     "language": "python",
     "metadata": {},
     "outputs": [],
     "prompt_number": 2
    },
    {
     "cell_type": "code",
     "collapsed": false,
     "input": [
      "train = pd.read_csv(trainfile)"
     ],
     "language": "python",
     "metadata": {},
     "outputs": [],
     "prompt_number": 3
    },
    {
     "cell_type": "code",
     "collapsed": false,
     "input": [
      "%matplotlib\n",
      "plt.hist(train.plays)"
     ],
     "language": "python",
     "metadata": {},
     "outputs": [
      {
       "output_type": "stream",
       "stream": "stdout",
       "text": [
        "Using matplotlib backend: TkAgg\n"
       ]
      },
      {
       "metadata": {},
       "output_type": "pyout",
       "prompt_number": 8,
       "text": [
        "(array([  4.15470900e+06,   6.70000000e+01,   1.70000000e+01,\n",
        "          6.00000000e+00,   2.00000000e+00,   2.00000000e+00,\n",
        "          0.00000000e+00,   0.00000000e+00,   0.00000000e+00,\n",
        "          1.00000000e+00]),\n",
        " array([  1.00000000e+00,   4.19166000e+04,   8.38322000e+04,\n",
        "          1.25747800e+05,   1.67663400e+05,   2.09579000e+05,\n",
        "          2.51494600e+05,   2.93410200e+05,   3.35325800e+05,\n",
        "          3.77241400e+05,   4.19157000e+05]),\n",
        " <a list of 10 Patch objects>)"
       ]
      }
     ],
     "prompt_number": 8
    },
    {
     "cell_type": "code",
     "collapsed": false,
     "input": [
      "test = pd.read_csv(testfile)"
     ],
     "language": "python",
     "metadata": {},
     "outputs": [],
     "prompt_number": 5
    },
    {
     "cell_type": "code",
     "collapsed": false,
     "input": [
      "len(test)"
     ],
     "language": "python",
     "metadata": {},
     "outputs": [
      {
       "metadata": {},
       "output_type": "pyout",
       "prompt_number": 6,
       "text": [
        "4154804"
       ]
      }
     ],
     "prompt_number": 6
    },
    {
     "cell_type": "code",
     "collapsed": false,
     "input": [
      "artists = pd.read_csv(artistfile)\n",
      "users = pd.read_csv(userfile)"
     ],
     "language": "python",
     "metadata": {},
     "outputs": [],
     "prompt_number": 77
    },
    {
     "cell_type": "code",
     "collapsed": false,
     "input": [
      "artist_to_name = {row['artist']: row['name'] for i,row in artists.iterrows()}"
     ],
     "language": "python",
     "metadata": {},
     "outputs": [],
     "prompt_number": 78
    },
    {
     "cell_type": "code",
     "collapsed": false,
     "input": [
      "# useful functions\n",
      "def load_data(filenames):\n",
      "    '''\n",
      "    Inputs: list of filenames of pickled data files to be loaded.\n",
      "    Returns: dictionary with {filename: object } pairings.\n",
      "    '''\n",
      "    d = {}\n",
      "    for f in filenames:\n",
      "        try:\n",
      "            d[f] = pickle.load(open(f + '.p','rb'))\n",
      "        except _:\n",
      "            print \"Could not load {} into data.\".format(f)\n",
      "            if 'matrix' in f:\n",
      "                print \"Assuming matrix. Attempting to recreate with available data.\"\n",
      "                d[f] = lil_matrix((U,D)) \n",
      "                for i in xrange(len(train)):\n",
      "                    if i % 100000 == 0:\n",
      "                        print i\n",
      "                    d[f][user_id[train.user[i]], artist_id[train.artist[i]]] = train.plays[i]\n",
      "\n",
      "    return d\n",
      "\n",
      "def dump_data(data):\n",
      "    '''\n",
      "    Input: data - a dictionary of filename: object items to be dumped using pickle.\n",
      "    '''\n",
      "    for f,o in data.iteritems():\n",
      "        pickle.dump(o,open(f + '.p','wb'))"
     ],
     "language": "python",
     "metadata": {},
     "outputs": [],
     "prompt_number": 79
    },
    {
     "cell_type": "code",
     "collapsed": false,
     "input": [
      "datafiles = ['artist_hotness', 'could_not_find', 'similar_artists']\n",
      "pickled = load_data(datafiles)\n",
      "similar_artists = pickled[datafiles[2]]\n",
      "artist_hotness = pickled[datafiles[0]]\n",
      "no_matches = pickled[datafiles[1]]"
     ],
     "language": "python",
     "metadata": {},
     "outputs": [],
     "prompt_number": 80
    },
    {
     "cell_type": "code",
     "collapsed": false,
     "input": [
      "datafiles2 = ['clean_artist_terms']\n",
      "pickled2 = load_data(datafiles2)\n",
      "artist_terms = pickled2[datafiles2[0]]"
     ],
     "language": "python",
     "metadata": {},
     "outputs": [],
     "prompt_number": 81
    },
    {
     "cell_type": "code",
     "collapsed": false,
     "input": [
      "#dictionary of artists \"hash\" to name to help interpret groups\n",
      "bands = {artists.artist[i]:artists.name[i] for i in xrange(len(artists))}\n",
      "artist_ids = {artists.name[i]:artists.artist[i] for i in xrange(len(artists))}"
     ],
     "language": "python",
     "metadata": {},
     "outputs": [],
     "prompt_number": 82
    },
    {
     "cell_type": "code",
     "collapsed": false,
     "input": [
      "#names_array = np.array(artists.name)\n",
      "#similar_names = {}\n",
      "#for artist in similar_artists:\n",
      "#    similar = [match.name for match in similar_artists[artist]]\n",
      "#    similar_names[artist] = similar\n",
      "    \n",
      "# calcluate artist median plays    \n",
      "#artist_medians = {}\n",
      "#for artist in artists.artist:\n",
      "#    artist_medians[artist] = np.median(train[train.artist == artist].plays)"
     ],
     "language": "python",
     "metadata": {},
     "outputs": [],
     "prompt_number": 83
    },
    {
     "cell_type": "code",
     "collapsed": false,
     "input": [
      "# now we're going to generate the feature vector for the users\n",
      "# first, map countries to ids\n",
      "uniq_countries = set()\n",
      "for country in users.country:\n",
      "    uniq_countries.add(country)\n",
      "    \n",
      "# normalize the country label so they aren't heavily emphasized    \n",
      "country_label = {country: float(i) /len(uniq_countries) for i,country in enumerate(uniq_countries)}\n",
      "country_label"
     ],
     "language": "python",
     "metadata": {},
     "outputs": [
      {
       "metadata": {},
       "output_type": "pyout",
       "prompt_number": 84,
       "text": [
        "{'Afghanistan': 0.2510460251046025,\n",
        " 'Albania': 0.19246861924686193,\n",
        " 'Algeria': 0.5899581589958159,\n",
        " 'American Samoa': 0.0794979079497908,\n",
        " 'Andorra': 0.5564853556485355,\n",
        " 'Angola': 0.4560669456066946,\n",
        " 'Anguilla': 0.8284518828451883,\n",
        " 'Antarctica': 0.9707112970711297,\n",
        " 'Antigua and Barbuda': 0.7531380753138075,\n",
        " 'Argentina': 0.05439330543933055,\n",
        " 'Armenia': 0.13389121338912133,\n",
        " 'Aruba': 0.04184100418410042,\n",
        " 'Australia': 0.5857740585774058,\n",
        " 'Austria': 0.502092050209205,\n",
        " 'Azerbaijan': 0.2175732217573222,\n",
        " 'Bahamas': 0.17154811715481172,\n",
        " 'Bahrain': 0.07112970711297072,\n",
        " 'Bangladesh': 0.5815899581589958,\n",
        " 'Barbados': 0.7824267782426778,\n",
        " 'Belarus': 0.42677824267782427,\n",
        " 'Belgium': 0.6192468619246861,\n",
        " 'Belize': 0.6317991631799164,\n",
        " 'Benin': 0.33472803347280333,\n",
        " 'Bermuda': 0.2928870292887029,\n",
        " 'Bhutan': 0.7949790794979079,\n",
        " 'Bolivia': 0.058577405857740586,\n",
        " 'Bosnia and Herzegovina': 0.10460251046025104,\n",
        " 'Botswana': 0.3472803347280335,\n",
        " 'Bouvet Island': 0.8451882845188284,\n",
        " 'Brazil': 0.5230125523012552,\n",
        " 'British Indian Ocean Territory': 0.899581589958159,\n",
        " 'Brunei Darussalam': 0.8117154811715481,\n",
        " 'Bulgaria': 0.4435146443514644,\n",
        " 'Burkina Faso': 0.06694560669456066,\n",
        " 'Burundi': 0.7698744769874477,\n",
        " 'Cambodia': 0.4393305439330544,\n",
        " 'Cameroon': 0.06276150627615062,\n",
        " 'Canada': 0.0,\n",
        " 'Cape Verde': 0.5523012552301255,\n",
        " 'Cayman Islands': 0.39330543933054396,\n",
        " 'Central African Republic': 0.40585774058577406,\n",
        " 'Chad': 0.46443514644351463,\n",
        " 'Chile': 0.6108786610878661,\n",
        " 'China': 0.36401673640167365,\n",
        " 'Christmas Island': 0.1506276150627615,\n",
        " 'Cocos (Keeling) Islands': 0.09205020920502092,\n",
        " 'Colombia': 0.7615062761506276,\n",
        " 'Comoros': 0.9623430962343096,\n",
        " 'Congo': 0.9748953974895398,\n",
        " 'Congo, the Democratic Republic of the': 0.3389121338912134,\n",
        " 'Cook Islands': 0.3305439330543933,\n",
        " 'Costa Rica': 0.5439330543933054,\n",
        " \"Cote D'Ivoire\": 0.2217573221757322,\n",
        " 'Croatia': 0.6778242677824268,\n",
        " 'Cuba': 0.9539748953974896,\n",
        " 'Cyprus': 0.23430962343096234,\n",
        " 'Czech Republic': 0.25523012552301255,\n",
        " 'Denmark': 0.6527196652719666,\n",
        " 'Djibouti': 0.7447698744769874,\n",
        " 'Dominica': 0.7573221757322176,\n",
        " 'Dominican Republic': 0.37656903765690375,\n",
        " 'Ecuador': 0.5774058577405857,\n",
        " 'Egypt': 0.9497907949790795,\n",
        " 'El Salvador': 0.5941422594142259,\n",
        " 'Equatorial Guinea': 0.7238493723849372,\n",
        " 'Eritrea': 0.2594142259414226,\n",
        " 'Estonia': 0.7154811715481172,\n",
        " 'Ethiopia': 0.03765690376569038,\n",
        " 'Falkland Islands (Malvinas)': 0.35564853556485354,\n",
        " 'Faroe Islands': 0.5271966527196653,\n",
        " 'Fiji': 0.9916317991631799,\n",
        " 'Finland': 0.16317991631799164,\n",
        " 'France': 0.28451882845188287,\n",
        " 'French Guiana': 0.6694560669456067,\n",
        " 'French Polynesia': 0.2803347280334728,\n",
        " 'French Southern Territories': 0.4602510460251046,\n",
        " 'Gabon': 0.15481171548117154,\n",
        " 'Gambia': 0.602510460251046,\n",
        " 'Georgia': 0.6443514644351465,\n",
        " 'Germany': 0.8702928870292888,\n",
        " 'Ghana': 0.38493723849372385,\n",
        " 'Gibraltar': 0.5606694560669456,\n",
        " 'Greece': 0.9832635983263598,\n",
        " 'Greenland': 0.9330543933054394,\n",
        " 'Grenada': 0.698744769874477,\n",
        " 'Guadeloupe': 0.9288702928870293,\n",
        " 'Guam': 0.20920502092050208,\n",
        " 'Guatemala': 0.100418410041841,\n",
        " 'Guinea-Bissau': 0.6861924686192469,\n",
        " 'Guyana': 0.4309623430962343,\n",
        " 'Haiti': 0.6276150627615062,\n",
        " 'Heard Island and Mcdonald Islands': 0.9790794979079498,\n",
        " 'Holy See (Vatican City State)': 0.7489539748953975,\n",
        " 'Honduras': 0.9372384937238494,\n",
        " 'Hong Kong': 0.6359832635983264,\n",
        " 'Hungary': 0.9246861924686193,\n",
        " 'Iceland': 0.8493723849372385,\n",
        " 'India': 0.21338912133891214,\n",
        " 'Indonesia': 0.401673640167364,\n",
        " 'Iran, Islamic Republic of': 0.3514644351464435,\n",
        " 'Iraq': 0.702928870292887,\n",
        " 'Ireland': 0.5648535564853556,\n",
        " 'Israel': 0.8410041841004184,\n",
        " 'Italy': 0.7907949790794979,\n",
        " 'Jamaica': 0.18828451882845187,\n",
        " 'Japan': 0.5146443514644351,\n",
        " 'Jordan': 0.11297071129707113,\n",
        " 'Kazakhstan': 0.8786610878661087,\n",
        " 'Kenya': 0.4351464435146444,\n",
        " 'Kiribati': 0.6903765690376569,\n",
        " \"Korea, Democratic People's Republic of\": 0.9037656903765691,\n",
        " 'Korea, Republic of': 0.5397489539748954,\n",
        " 'Kuwait': 0.5313807531380753,\n",
        " 'Kyrgyzstan': 0.891213389121339,\n",
        " \"Lao People's Democratic Republic\": 0.6485355648535565,\n",
        " 'Latvia': 0.9205020920502092,\n",
        " 'Lebanon': 0.7280334728033473,\n",
        " 'Lesotho': 0.22594142259414227,\n",
        " 'Liberia': 0.12552301255230125,\n",
        " 'Libyan Arab Jamahiriya': 0.0041841004184100415,\n",
        " 'Liechtenstein': 0.48535564853556484,\n",
        " 'Lithuania': 0.02510460251046025,\n",
        " 'Luxembourg': 0.5481171548117155,\n",
        " 'Macao': 0.2384937238493724,\n",
        " 'Macedonia': 0.9121338912133892,\n",
        " 'Madagascar': 0.7866108786610879,\n",
        " 'Malawi': 0.3263598326359833,\n",
        " 'Malaysia': 0.497907949790795,\n",
        " 'Maldives': 0.8158995815899581,\n",
        " 'Mali': 0.4100418410041841,\n",
        " 'Malta': 0.8075313807531381,\n",
        " 'Marshall Islands': 0.14644351464435146,\n",
        " 'Martinique': 0.8744769874476988,\n",
        " 'Mauritania': 0.8870292887029289,\n",
        " 'Mauritius': 0.4476987447698745,\n",
        " 'Mayotte': 0.895397489539749,\n",
        " 'Mexico': 0.9456066945606695,\n",
        " 'Micronesia, Federated States of': 0.3682008368200837,\n",
        " 'Moldova': 0.6652719665271967,\n",
        " 'Monaco': 0.16736401673640167,\n",
        " 'Mongolia': 0.6820083682008368,\n",
        " 'Montenegro': 0.02092050209205021,\n",
        " 'Montserrat': 0.08368200836820083,\n",
        " 'Morocco': 0.6736401673640168,\n",
        " 'Mozambique': 0.5062761506276151,\n",
        " 'Myanmar': 0.9414225941422594,\n",
        " 'Namibia': 0.6610878661087866,\n",
        " 'Nauru': 0.3138075313807531,\n",
        " 'Nepal': 0.803347280334728,\n",
        " 'Netherlands': 0.1297071129707113,\n",
        " 'Netherlands Antilles': 0.8368200836820083,\n",
        " 'New Caledonia': 0.9079497907949791,\n",
        " 'New Zealand': 0.1799163179916318,\n",
        " 'Nicaragua': 0.7782426778242678,\n",
        " 'Niger': 0.5188284518828452,\n",
        " 'Nigeria': 0.5732217573221757,\n",
        " 'Niue': 0.1589958158995816,\n",
        " 'Norfolk Island': 0.200836820083682,\n",
        " 'Northern Mariana Islands': 0.8200836820083682,\n",
        " 'Norway': 0.32217573221757323,\n",
        " 'Oman': 0.14225941422594143,\n",
        " 'Pakistan': 0.13807531380753138,\n",
        " 'Palau': 0.5690376569037657,\n",
        " 'Palestinian Territory, Occupied': 0.99581589958159,\n",
        " 'Panama': 0.5355648535564853,\n",
        " 'Papua New Guinea': 0.8619246861924686,\n",
        " 'Paraguay': 0.9874476987447699,\n",
        " 'Peru': 0.3054393305439331,\n",
        " 'Philippines': 0.6569037656903766,\n",
        " 'Pitcairn': 0.24267782426778242,\n",
        " 'Poland': 0.8828451882845189,\n",
        " 'Portugal': 0.7112970711297071,\n",
        " 'Puerto Rico': 0.6150627615062761,\n",
        " 'Qatar': 0.4895397489539749,\n",
        " 'Reunion': 0.7656903765690377,\n",
        " 'Romania': 0.45188284518828453,\n",
        " 'Russian Federation': 0.1087866108786611,\n",
        " 'Rwanda': 0.606694560669456,\n",
        " 'Saint Helena': 0.016736401673640166,\n",
        " 'Saint Kitts and Nevis': 0.03347280334728033,\n",
        " 'Saint Lucia': 0.2719665271966527,\n",
        " 'Saint Pierre and Miquelon': 0.029288702928870293,\n",
        " 'Saint Vincent and the Grenadines': 0.2301255230125523,\n",
        " 'Samoa': 0.19665271966527198,\n",
        " 'San Marino': 0.27615062761506276,\n",
        " 'Sao Tome and Principe': 0.008368200836820083,\n",
        " 'Saudi Arabia': 0.07531380753138076,\n",
        " 'Senegal': 0.8577405857740585,\n",
        " 'Serbia': 0.9581589958158996,\n",
        " 'Seychelles': 0.3179916317991632,\n",
        " 'Sierra Leone': 0.6401673640167364,\n",
        " 'Singapore': 0.34309623430962344,\n",
        " 'Slovakia': 0.29707112970711297,\n",
        " 'Slovenia': 0.09623430962343096,\n",
        " 'Solomon Islands': 0.26359832635983266,\n",
        " 'Somalia': 0.301255230125523,\n",
        " 'South Africa': 0.4686192468619247,\n",
        " 'South Georgia and the South Sandwich Islands': 0.4811715481171548,\n",
        " 'Spain': 0.12133891213389121,\n",
        " 'Sri Lanka': 0.04602510460251046,\n",
        " 'Sudan': 0.799163179916318,\n",
        " 'Suriname': 0.8242677824267782,\n",
        " 'Svalbard and Jan Mayen': 0.7322175732217573,\n",
        " 'Swaziland': 0.0502092050209205,\n",
        " 'Sweden': 0.4225941422594142,\n",
        " 'Switzerland': 0.694560669456067,\n",
        " 'Syrian Arab Republic': 0.28870292887029286,\n",
        " 'Taiwan': 0.7740585774058577,\n",
        " 'Tajikistan': 0.41841004184100417,\n",
        " 'Tanzania, United Republic of': 0.7071129707112971,\n",
        " 'Thailand': 0.6234309623430963,\n",
        " 'Timor-Leste': 0.3723849372384937,\n",
        " 'Togo': 0.3598326359832636,\n",
        " 'Tokelau': 0.47280334728033474,\n",
        " 'Tonga': 0.3891213389121339,\n",
        " 'Trinidad and Tobago': 0.9163179916317992,\n",
        " 'Tunisia': 0.7405857740585774,\n",
        " 'Turkey': 0.24686192468619247,\n",
        " 'Turkmenistan': 0.012552301255230125,\n",
        " 'Turks and Caicos Islands': 0.4769874476987448,\n",
        " 'Tuvalu': 0.5983263598326359,\n",
        " 'Uganda': 0.5104602510460251,\n",
        " 'Ukraine': 0.3807531380753138,\n",
        " 'United Arab Emirates': 0.20502092050209206,\n",
        " 'United Kingdom': 0.9665271966527197,\n",
        " 'United States': 0.41422594142259417,\n",
        " 'United States Minor Outlying Islands': 0.08786610878661087,\n",
        " 'Uruguay': 0.7196652719665272,\n",
        " 'Uzbekistan': 0.7364016736401674,\n",
        " 'Vanuatu': 0.30962343096234307,\n",
        " 'Venezuela': 0.8326359832635983,\n",
        " 'Viet Nam': 0.26778242677824265,\n",
        " 'Virgin Islands, British': 0.11715481171548117,\n",
        " 'Virgin Islands, U.s.': 0.49372384937238495,\n",
        " 'Wallis and Futuna': 0.17573221757322174,\n",
        " 'Western Sahara': 0.39748953974895396,\n",
        " 'Yemen': 0.18410041841004185,\n",
        " 'Zambia': 0.8535564853556485,\n",
        " 'Zimbabwe': 0.8661087866108786}"
       ]
      }
     ],
     "prompt_number": 84
    },
    {
     "cell_type": "code",
     "collapsed": false,
     "input": [
      "# fix the outlier data by replacing negatives with 1 and > 100 with 100\n",
      "median_age = np.median(users.age)\n",
      "max_age = np.max(users.age)\n",
      "min_age = np.min(users[users.age > 0].age)\n",
      "median_age, max_age, min_age\n",
      "\n",
      "first = True"
     ],
     "language": "python",
     "metadata": {},
     "outputs": [],
     "prompt_number": 85
    },
    {
     "cell_type": "code",
     "collapsed": false,
     "input": [
      "# now we change the female/male and country categories to numbers\n",
      "#Turn sex data numerical\n",
      "users.sex[users.sex == 'f'] = 1\n",
      "users.sex[users.sex == 'm'] = 0\n",
      "users.sex[(users.sex != 0) & (users.sex != 1)] = 0.5\n",
      "\n",
      "#impute missing age with mean age\n",
      "users.age[users.age > 101] = 100.0\n",
      "users.age[users.age < 0] = 1.0 \n",
      "users.age[pd.isnull(users.age)] = float(np.median(users.age)) \n",
      "users.age = users.age / float(max_age)\n",
      "\n",
      "if first:\n",
      "    users.country = users.apply(lambda r: country_label[r['country']], axis=1)\n",
      "    first = False"
     ],
     "language": "python",
     "metadata": {},
     "outputs": [],
     "prompt_number": 86
    },
    {
     "cell_type": "code",
     "collapsed": false,
     "input": [
      "binary = False\n",
      "unique_terms = set()\n",
      "for artist, terms in artist_terms.iteritems():\n",
      "    for (term, freq) in terms:\n",
      "        unique_terms.add(term)\n",
      "        \n",
      "# calcate the number of unique terms + 1 for hotness vector\n",
      "artist_nfeats = len(unique_terms) + 1\n",
      "\n",
      "# map unique artist terms to a row in an artist vector\n",
      "term_to_index = {term : i for (i, term) in enumerate(unique_terms)}\n",
      "\n",
      "artist_data = [[0 for _ in xrange(artist_nfeats + 1)] for _ in xrange(len(artist_terms))]\n",
      "k = 0\n",
      "for (artist, terms) in artist_terms.iteritems():\n",
      "    artist_data[k][0] = artist\n",
      "    for (term, freq) in terms:\n",
      "        j = term_to_index[term] + 1\n",
      "        artist_data[k][j] = freq if not binary else 1\n",
      "    \n",
      "    try:\n",
      "        artist_data[k][artist_nfeats] = artist_hotness[artist]\n",
      "    except KeyError:\n",
      "        print \"Could not find hotness for artist {}.\".format(artist)\n",
      "        artist_data[k][artist_nfeats] = 0\n",
      "    k+=1\n",
      "    \n",
      "artist_data = pd.DataFrame(artist_data, columns = ['name'] + list(unique_terms) + ['hotness'])"
     ],
     "language": "python",
     "metadata": {},
     "outputs": [
      {
       "output_type": "stream",
       "stream": "stdout",
       "text": [
        "Could not find hotness for artist Freezepop.\n",
        "Could not find hotness for artist Phish.\n"
       ]
      }
     ],
     "prompt_number": 87
    },
    {
     "cell_type": "code",
     "collapsed": false,
     "input": [
      "# a function that given an artist id will construct the respective feature vector\n",
      "median_artist = artist_data.median(axis=0)\n",
      "len(median_artist)"
     ],
     "language": "python",
     "metadata": {},
     "outputs": [
      {
       "metadata": {},
       "output_type": "pyout",
       "prompt_number": 88,
       "text": [
        "809"
       ]
      }
     ],
     "prompt_number": 88
    },
    {
     "cell_type": "code",
     "collapsed": false,
     "input": [
      "# this is fast\n",
      "def get_artist_feature(row):\n",
      "    max_feats = 128\n",
      "    artist_name = row['name']\n",
      "    features = np.zeros(artist_nfeats)\n",
      "    # set feature hotness\n",
      "    try:\n",
      "        features[artist_nfeats - 1] = artist_hotness[artist_name]\n",
      "    except KeyError:\n",
      "        print \"Could not find hotness for {}.\".format(artist_name)\n",
      "        features[artist_nfeats - 1] = 0\n",
      "    try:\n",
      "        for (term, freq) in artist_terms[artist_name]:\n",
      "            try:\n",
      "                index = term_to_index[term]\n",
      "            except IndexError:\n",
      "                print \"Unable to obtain row index for feature {}.\".format(term) \n",
      "            try:\n",
      "                features[index] = freq if not binary else 1\n",
      "            except IndexError:\n",
      "                print \"Row index {} out of range for list of length {}\".format(index,len(features))\n",
      "    except KeyError:\n",
      "        # we have no data on this artist, so his information is the median for the terms\n",
      "        # TODO: Can we just do this? Do we need to deepcopys\n",
      "        features = median_artist\n",
      "        print \"Unable to find terms for {}.\".format(artist_name)\n",
      "\n",
      "    if features is None:\n",
      "        print \"BADDDDD!\"\n",
      "    return np.array(features[:max_feats])\n",
      "\n",
      "def get_user_feature(row):\n",
      "    user_nfeats = 3\n",
      "    return np.array([row['country'], row['age'], row['sex']])"
     ],
     "language": "python",
     "metadata": {},
     "outputs": [],
     "prompt_number": 89
    },
    {
     "cell_type": "code",
     "collapsed": false,
     "input": [
      "artist_features = {row['name'] : get_artist_feature(row) for i,row in artists.iterrows()}\n",
      "user_features = {row['user'] : get_user_feature(row) for i, row in users.iterrows()}"
     ],
     "language": "python",
     "metadata": {},
     "outputs": [
      {
       "output_type": "stream",
       "stream": "stdout",
       "text": [
        "Could not find hotness for nan.\n",
        "Unable to find terms for nan.\n",
        "Could not find hotness for Freezepop."
       ]
      },
      {
       "output_type": "stream",
       "stream": "stdout",
       "text": [
        "\n",
        "Could not find hotness for nan.\n",
        "Unable to find terms for nan.\n",
        "Could not find hotness for Various Artists.\n",
        "Unable to find terms for Various Artists.\n",
        "Could not find hotness for nan."
       ]
      },
      {
       "output_type": "stream",
       "stream": "stdout",
       "text": [
        "\n",
        "Unable to find terms for nan.\n",
        "Could not find hotness for nan.\n",
        "Unable to find terms for nan.\n",
        "Could not find hotness for nan.\n",
        "Unable to find terms for nan.\n",
        "Could not find hotness for nan.\n",
        "Unable to find terms for nan.\n",
        "Could not find hotness for nan."
       ]
      },
      {
       "output_type": "stream",
       "stream": "stdout",
       "text": [
        "\n",
        "Unable to find terms for nan.\n",
        "Could not find hotness for nan.\n",
        "Unable to find terms for nan.\n",
        "Could not find hotness for !!!.\n",
        "Unable to find terms for !!!.\n",
        "Could not find hotness for nan.\n",
        "Unable to find terms for nan.\n",
        "Could not find hotness for Phish."
       ]
      },
      {
       "output_type": "stream",
       "stream": "stdout",
       "text": [
        "\n",
        "Could not find hotness for nan.\n",
        "Unable to find terms for nan.\n"
       ]
      }
     ],
     "prompt_number": 90
    },
    {
     "cell_type": "code",
     "collapsed": false,
     "input": [
      "dump_data({'artist_features_smaller': artist_features, 'user_features_smaller' : user_features})"
     ],
     "language": "python",
     "metadata": {},
     "outputs": [],
     "prompt_number": 39
    },
    {
     "cell_type": "code",
     "collapsed": false,
     "input": [
      "def features(row):\n",
      "    artist_name = artist_to_name[row['artist']] \n",
      "    user_name = row['user']\n",
      "    return np.concatenate((artist_features[artist_name], user_features[user_name]))"
     ],
     "language": "python",
     "metadata": {},
     "outputs": [],
     "prompt_number": 91
    },
    {
     "cell_type": "code",
     "collapsed": false,
     "input": [
      "# we want to subset the training data\n",
      "subset_num = len(train)/2\n",
      "train_small = train[:subset_num]\n",
      "len(train_small)"
     ],
     "language": "python",
     "metadata": {},
     "outputs": [
      {
       "metadata": {},
       "output_type": "pyout",
       "prompt_number": 92,
       "text": [
        "2077402"
       ]
      }
     ],
     "prompt_number": 92
    },
    {
     "cell_type": "code",
     "collapsed": false,
     "input": [
      "def extract_data(data, test = False):\n",
      "    l = []\n",
      "    for i,row in data.iterrows():\n",
      "        if i % 50000 == 0:\n",
      "            print \"Processed {} items\".format(i)\n",
      "        l.append(features(row))\n",
      "\n",
      "    Y = np.array(train_small.plays) if not test else None\n",
      "    return np.vstack(l),Y"
     ],
     "language": "python",
     "metadata": {},
     "outputs": [],
     "prompt_number": 93
    },
    {
     "cell_type": "code",
     "collapsed": false,
     "input": [
      "def model(X,Y,trees = 16):\n",
      "    m = rf(n_estimators = trees)\n",
      "    print \"Fitting model\"\n",
      "    m.fit(X,Y)\n",
      "    print \"Done fit.\"\n",
      "    \n",
      "    return m"
     ],
     "language": "python",
     "metadata": {},
     "outputs": [],
     "prompt_number": 94
    },
    {
     "cell_type": "code",
     "collapsed": false,
     "input": [
      "X,Y = extract_data(train_small)"
     ],
     "language": "python",
     "metadata": {},
     "outputs": [
      {
       "output_type": "stream",
       "stream": "stdout",
       "text": [
        "Processed 0 items\n",
        "Processed 50000 items"
       ]
      },
      {
       "output_type": "stream",
       "stream": "stdout",
       "text": [
        "\n",
        "Processed 100000 items"
       ]
      },
      {
       "output_type": "stream",
       "stream": "stdout",
       "text": [
        "\n",
        "Processed 150000 items"
       ]
      },
      {
       "output_type": "stream",
       "stream": "stdout",
       "text": [
        "\n",
        "Processed 200000 items"
       ]
      },
      {
       "output_type": "stream",
       "stream": "stdout",
       "text": [
        "\n",
        "Processed 250000 items"
       ]
      },
      {
       "output_type": "stream",
       "stream": "stdout",
       "text": [
        "\n",
        "Processed 300000 items"
       ]
      },
      {
       "output_type": "stream",
       "stream": "stdout",
       "text": [
        "\n",
        "Processed 350000 items"
       ]
      },
      {
       "output_type": "stream",
       "stream": "stdout",
       "text": [
        "\n",
        "Processed 400000 items"
       ]
      },
      {
       "output_type": "stream",
       "stream": "stdout",
       "text": [
        "\n",
        "Processed 450000 items"
       ]
      },
      {
       "output_type": "stream",
       "stream": "stdout",
       "text": [
        "\n",
        "Processed 500000 items"
       ]
      },
      {
       "output_type": "stream",
       "stream": "stdout",
       "text": [
        "\n",
        "Processed 550000 items"
       ]
      },
      {
       "output_type": "stream",
       "stream": "stdout",
       "text": [
        "\n",
        "Processed 600000 items"
       ]
      },
      {
       "output_type": "stream",
       "stream": "stdout",
       "text": [
        "\n",
        "Processed 650000 items"
       ]
      },
      {
       "output_type": "stream",
       "stream": "stdout",
       "text": [
        "\n",
        "Processed 700000 items"
       ]
      },
      {
       "output_type": "stream",
       "stream": "stdout",
       "text": [
        "\n",
        "Processed 750000 items"
       ]
      },
      {
       "output_type": "stream",
       "stream": "stdout",
       "text": [
        "\n",
        "Processed 800000 items"
       ]
      },
      {
       "output_type": "stream",
       "stream": "stdout",
       "text": [
        "\n",
        "Processed 850000 items"
       ]
      },
      {
       "output_type": "stream",
       "stream": "stdout",
       "text": [
        "\n",
        "Processed 900000 items"
       ]
      },
      {
       "output_type": "stream",
       "stream": "stdout",
       "text": [
        "\n",
        "Processed 950000 items"
       ]
      },
      {
       "output_type": "stream",
       "stream": "stdout",
       "text": [
        "\n",
        "Processed 1000000 items"
       ]
      },
      {
       "output_type": "stream",
       "stream": "stdout",
       "text": [
        "\n",
        "Processed 1050000 items"
       ]
      },
      {
       "output_type": "stream",
       "stream": "stdout",
       "text": [
        "\n",
        "Processed 1100000 items"
       ]
      },
      {
       "output_type": "stream",
       "stream": "stdout",
       "text": [
        "\n",
        "Processed 1150000 items"
       ]
      },
      {
       "output_type": "stream",
       "stream": "stdout",
       "text": [
        "\n",
        "Processed 1200000 items"
       ]
      },
      {
       "output_type": "stream",
       "stream": "stdout",
       "text": [
        "\n",
        "Processed 1250000 items"
       ]
      },
      {
       "output_type": "stream",
       "stream": "stdout",
       "text": [
        "\n",
        "Processed 1300000 items"
       ]
      },
      {
       "output_type": "stream",
       "stream": "stdout",
       "text": [
        "\n",
        "Processed 1350000 items"
       ]
      },
      {
       "output_type": "stream",
       "stream": "stdout",
       "text": [
        "\n",
        "Processed 1400000 items"
       ]
      },
      {
       "output_type": "stream",
       "stream": "stdout",
       "text": [
        "\n",
        "Processed 1450000 items"
       ]
      },
      {
       "output_type": "stream",
       "stream": "stdout",
       "text": [
        "\n",
        "Processed 1500000 items"
       ]
      },
      {
       "output_type": "stream",
       "stream": "stdout",
       "text": [
        "\n",
        "Processed 1550000 items"
       ]
      },
      {
       "output_type": "stream",
       "stream": "stdout",
       "text": [
        "\n",
        "Processed 1600000 items"
       ]
      },
      {
       "output_type": "stream",
       "stream": "stdout",
       "text": [
        "\n",
        "Processed 1650000 items"
       ]
      },
      {
       "output_type": "stream",
       "stream": "stdout",
       "text": [
        "\n",
        "Processed 1700000 items"
       ]
      },
      {
       "output_type": "stream",
       "stream": "stdout",
       "text": [
        "\n",
        "Processed 1750000 items"
       ]
      },
      {
       "output_type": "stream",
       "stream": "stdout",
       "text": [
        "\n",
        "Processed 1800000 items"
       ]
      },
      {
       "output_type": "stream",
       "stream": "stdout",
       "text": [
        "\n",
        "Processed 1850000 items"
       ]
      },
      {
       "output_type": "stream",
       "stream": "stdout",
       "text": [
        "\n",
        "Processed 1900000 items"
       ]
      },
      {
       "output_type": "stream",
       "stream": "stdout",
       "text": [
        "\n",
        "Processed 1950000 items"
       ]
      },
      {
       "output_type": "stream",
       "stream": "stdout",
       "text": [
        "\n",
        "Processed 2000000 items"
       ]
      },
      {
       "output_type": "stream",
       "stream": "stdout",
       "text": [
        "\n",
        "Processed 2050000 items"
       ]
      },
      {
       "output_type": "stream",
       "stream": "stdout",
       "text": [
        "\n"
       ]
      }
     ],
     "prompt_number": 46
    },
    {
     "cell_type": "code",
     "collapsed": false,
     "input": [
      "rfmodel = model(X,Y)"
     ],
     "language": "python",
     "metadata": {},
     "outputs": [
      {
       "output_type": "stream",
       "stream": "stdout",
       "text": [
        "Fitting model\n",
        "Done fit."
       ]
      },
      {
       "output_type": "stream",
       "stream": "stdout",
       "text": [
        "\n"
       ]
      }
     ],
     "prompt_number": 47
    },
    {
     "cell_type": "code",
     "collapsed": false,
     "input": [
      "def error(p,e):\n",
      "    return np.sum(np.absolute(p - e)) / len(p)\n",
      "error(rfmodel.predict(T), Ye)"
     ],
     "language": "python",
     "metadata": {},
     "outputs": [
      {
       "metadata": {},
       "output_type": "pyout",
       "prompt_number": 166,
       "text": [
        "291.25151081095402"
       ]
      }
     ],
     "prompt_number": 166
    },
    {
     "cell_type": "code",
     "collapsed": false,
     "input": [
      "testdata = pd.read_csv(testfile)\n",
      "def make_predictions(chunks=50000):\n",
      "    '''\n",
      "    Makes predictions online using 'chunks' of data. Returns z, a vector \n",
      "    of (id, prediction)\n",
      "    '''\n",
      "    results = []\n",
      "    for i in xrange(0,len(testdata), chunks):\n",
      "        subset = testdata[i:i + chunks]\n",
      "        YTest, _ = extract_data(subset, test=True)\n",
      "        pred = rfmodel.predict(YTest)\n",
      "        \n",
      "        results += zip(subset.Id.tolist(), pred.tolist())\n",
      "        del(YTest)\n",
      "        \n",
      "    return results\n",
      "\n",
      "results = make_predictions()"
     ],
     "language": "python",
     "metadata": {},
     "outputs": [
      {
       "output_type": "stream",
       "stream": "stdout",
       "text": [
        "Processed 0 items\n",
        "Processed 50000 items"
       ]
      },
      {
       "output_type": "stream",
       "stream": "stdout",
       "text": [
        "\n",
        "Processed 100000 items"
       ]
      },
      {
       "output_type": "stream",
       "stream": "stdout",
       "text": [
        "\n",
        "Processed 150000 items"
       ]
      },
      {
       "output_type": "stream",
       "stream": "stdout",
       "text": [
        "\n",
        "Processed 200000 items"
       ]
      },
      {
       "output_type": "stream",
       "stream": "stdout",
       "text": [
        "\n",
        "Processed 250000 items"
       ]
      },
      {
       "output_type": "stream",
       "stream": "stdout",
       "text": [
        "\n",
        "Processed 300000 items"
       ]
      },
      {
       "output_type": "stream",
       "stream": "stdout",
       "text": [
        "\n",
        "Processed 350000 items"
       ]
      },
      {
       "output_type": "stream",
       "stream": "stdout",
       "text": [
        "\n",
        "Processed 400000 items"
       ]
      },
      {
       "output_type": "stream",
       "stream": "stdout",
       "text": [
        "\n",
        "Processed 450000 items"
       ]
      },
      {
       "output_type": "stream",
       "stream": "stdout",
       "text": [
        "\n",
        "Processed 500000 items"
       ]
      },
      {
       "output_type": "stream",
       "stream": "stdout",
       "text": [
        "\n",
        "Processed 550000 items"
       ]
      },
      {
       "output_type": "stream",
       "stream": "stdout",
       "text": [
        "\n",
        "Processed 600000 items"
       ]
      },
      {
       "output_type": "stream",
       "stream": "stdout",
       "text": [
        "\n",
        "Processed 650000 items"
       ]
      },
      {
       "output_type": "stream",
       "stream": "stdout",
       "text": [
        "\n",
        "Processed 700000 items"
       ]
      },
      {
       "output_type": "stream",
       "stream": "stdout",
       "text": [
        "\n",
        "Processed 750000 items"
       ]
      },
      {
       "output_type": "stream",
       "stream": "stdout",
       "text": [
        "\n",
        "Processed 800000 items"
       ]
      },
      {
       "output_type": "stream",
       "stream": "stdout",
       "text": [
        "\n",
        "Processed 850000 items"
       ]
      },
      {
       "output_type": "stream",
       "stream": "stdout",
       "text": [
        "\n",
        "Processed 900000 items"
       ]
      },
      {
       "output_type": "stream",
       "stream": "stdout",
       "text": [
        "\n",
        "Processed 950000 items"
       ]
      },
      {
       "output_type": "stream",
       "stream": "stdout",
       "text": [
        "\n",
        "Processed 1000000 items"
       ]
      },
      {
       "output_type": "stream",
       "stream": "stdout",
       "text": [
        "\n",
        "Processed 1050000 items"
       ]
      },
      {
       "output_type": "stream",
       "stream": "stdout",
       "text": [
        "\n",
        "Processed 1100000 items"
       ]
      },
      {
       "output_type": "stream",
       "stream": "stdout",
       "text": [
        "\n",
        "Processed 1150000 items"
       ]
      },
      {
       "output_type": "stream",
       "stream": "stdout",
       "text": [
        "\n",
        "Processed 1200000 items"
       ]
      },
      {
       "output_type": "stream",
       "stream": "stdout",
       "text": [
        "\n",
        "Processed 1250000 items"
       ]
      },
      {
       "output_type": "stream",
       "stream": "stdout",
       "text": [
        "\n",
        "Processed 1300000 items"
       ]
      },
      {
       "output_type": "stream",
       "stream": "stdout",
       "text": [
        "\n",
        "Processed 1350000 items"
       ]
      },
      {
       "output_type": "stream",
       "stream": "stdout",
       "text": [
        "\n",
        "Processed 1400000 items"
       ]
      },
      {
       "output_type": "stream",
       "stream": "stdout",
       "text": [
        "\n",
        "Processed 1450000 items"
       ]
      },
      {
       "output_type": "stream",
       "stream": "stdout",
       "text": [
        "\n",
        "Processed 1500000 items"
       ]
      },
      {
       "output_type": "stream",
       "stream": "stdout",
       "text": [
        "\n",
        "Processed 1550000 items"
       ]
      },
      {
       "output_type": "stream",
       "stream": "stdout",
       "text": [
        "\n",
        "Processed 1600000 items"
       ]
      },
      {
       "output_type": "stream",
       "stream": "stdout",
       "text": [
        "\n",
        "Processed 1650000 items"
       ]
      },
      {
       "output_type": "stream",
       "stream": "stdout",
       "text": [
        "\n",
        "Processed 1700000 items"
       ]
      },
      {
       "output_type": "stream",
       "stream": "stdout",
       "text": [
        "\n",
        "Processed 1750000 items"
       ]
      },
      {
       "output_type": "stream",
       "stream": "stdout",
       "text": [
        "\n",
        "Processed 1800000 items"
       ]
      },
      {
       "output_type": "stream",
       "stream": "stdout",
       "text": [
        "\n",
        "Processed 1850000 items"
       ]
      },
      {
       "output_type": "stream",
       "stream": "stdout",
       "text": [
        "\n",
        "Processed 1900000 items"
       ]
      },
      {
       "output_type": "stream",
       "stream": "stdout",
       "text": [
        "\n",
        "Processed 1950000 items"
       ]
      },
      {
       "output_type": "stream",
       "stream": "stdout",
       "text": [
        "\n",
        "Processed 2000000 items"
       ]
      },
      {
       "output_type": "stream",
       "stream": "stdout",
       "text": [
        "\n",
        "Processed 2050000 items"
       ]
      },
      {
       "output_type": "stream",
       "stream": "stdout",
       "text": [
        "\n",
        "Processed 2100000 items"
       ]
      },
      {
       "output_type": "stream",
       "stream": "stdout",
       "text": [
        "\n",
        "Processed 2150000 items"
       ]
      },
      {
       "output_type": "stream",
       "stream": "stdout",
       "text": [
        "\n",
        "Processed 2200000 items"
       ]
      },
      {
       "output_type": "stream",
       "stream": "stdout",
       "text": [
        "\n",
        "Processed 2250000 items"
       ]
      },
      {
       "output_type": "stream",
       "stream": "stdout",
       "text": [
        "\n",
        "Processed 2300000 items"
       ]
      },
      {
       "output_type": "stream",
       "stream": "stdout",
       "text": [
        "\n",
        "Processed 2350000 items"
       ]
      },
      {
       "output_type": "stream",
       "stream": "stdout",
       "text": [
        "\n",
        "Processed 2400000 items"
       ]
      },
      {
       "output_type": "stream",
       "stream": "stdout",
       "text": [
        "\n",
        "Processed 2450000 items"
       ]
      },
      {
       "output_type": "stream",
       "stream": "stdout",
       "text": [
        "\n",
        "Processed 2500000 items"
       ]
      },
      {
       "output_type": "stream",
       "stream": "stdout",
       "text": [
        "\n",
        "Processed 2550000 items"
       ]
      },
      {
       "output_type": "stream",
       "stream": "stdout",
       "text": [
        "\n",
        "Processed 2600000 items"
       ]
      },
      {
       "output_type": "stream",
       "stream": "stdout",
       "text": [
        "\n",
        "Processed 2650000 items"
       ]
      },
      {
       "output_type": "stream",
       "stream": "stdout",
       "text": [
        "\n",
        "Processed 2700000 items"
       ]
      },
      {
       "output_type": "stream",
       "stream": "stdout",
       "text": [
        "\n",
        "Processed 2750000 items"
       ]
      },
      {
       "output_type": "stream",
       "stream": "stdout",
       "text": [
        "\n",
        "Processed 2800000 items"
       ]
      },
      {
       "output_type": "stream",
       "stream": "stdout",
       "text": [
        "\n",
        "Processed 2850000 items"
       ]
      },
      {
       "output_type": "stream",
       "stream": "stdout",
       "text": [
        "\n",
        "Processed 2900000 items"
       ]
      },
      {
       "output_type": "stream",
       "stream": "stdout",
       "text": [
        "\n",
        "Processed 2950000 items"
       ]
      },
      {
       "output_type": "stream",
       "stream": "stdout",
       "text": [
        "\n",
        "Processed 3000000 items"
       ]
      },
      {
       "output_type": "stream",
       "stream": "stdout",
       "text": [
        "\n",
        "Processed 3050000 items"
       ]
      },
      {
       "output_type": "stream",
       "stream": "stdout",
       "text": [
        "\n",
        "Processed 3100000 items"
       ]
      },
      {
       "output_type": "stream",
       "stream": "stdout",
       "text": [
        "\n",
        "Processed 3150000 items"
       ]
      },
      {
       "output_type": "stream",
       "stream": "stdout",
       "text": [
        "\n",
        "Processed 3200000 items"
       ]
      },
      {
       "output_type": "stream",
       "stream": "stdout",
       "text": [
        "\n",
        "Processed 3250000 items"
       ]
      },
      {
       "output_type": "stream",
       "stream": "stdout",
       "text": [
        "\n",
        "Processed 3300000 items"
       ]
      },
      {
       "output_type": "stream",
       "stream": "stdout",
       "text": [
        "\n",
        "Processed 3350000 items"
       ]
      },
      {
       "output_type": "stream",
       "stream": "stdout",
       "text": [
        "\n",
        "Processed 3400000 items"
       ]
      },
      {
       "output_type": "stream",
       "stream": "stdout",
       "text": [
        "\n",
        "Processed 3450000 items"
       ]
      },
      {
       "output_type": "stream",
       "stream": "stdout",
       "text": [
        "\n",
        "Processed 3500000 items"
       ]
      },
      {
       "output_type": "stream",
       "stream": "stdout",
       "text": [
        "\n",
        "Processed 3550000 items"
       ]
      },
      {
       "output_type": "stream",
       "stream": "stdout",
       "text": [
        "\n",
        "Processed 3600000 items"
       ]
      },
      {
       "output_type": "stream",
       "stream": "stdout",
       "text": [
        "\n",
        "Processed 3650000 items"
       ]
      },
      {
       "output_type": "stream",
       "stream": "stdout",
       "text": [
        "\n",
        "Processed 3700000 items"
       ]
      },
      {
       "output_type": "stream",
       "stream": "stdout",
       "text": [
        "\n",
        "Processed 3750000 items"
       ]
      },
      {
       "output_type": "stream",
       "stream": "stdout",
       "text": [
        "\n",
        "Processed 3800000 items"
       ]
      },
      {
       "output_type": "stream",
       "stream": "stdout",
       "text": [
        "\n",
        "Processed 3850000 items"
       ]
      },
      {
       "output_type": "stream",
       "stream": "stdout",
       "text": [
        "\n",
        "Processed 3900000 items"
       ]
      },
      {
       "output_type": "stream",
       "stream": "stdout",
       "text": [
        "\n",
        "Processed 3950000 items"
       ]
      },
      {
       "output_type": "stream",
       "stream": "stdout",
       "text": [
        "\n",
        "Processed 4000000 items"
       ]
      },
      {
       "output_type": "stream",
       "stream": "stdout",
       "text": [
        "\n",
        "Processed 4050000 items"
       ]
      },
      {
       "output_type": "stream",
       "stream": "stdout",
       "text": [
        "\n",
        "Processed 4100000 items"
       ]
      },
      {
       "output_type": "stream",
       "stream": "stdout",
       "text": [
        "\n",
        "Processed 4150000 items"
       ]
      },
      {
       "output_type": "stream",
       "stream": "stdout",
       "text": [
        "\n"
       ]
      }
     ],
     "prompt_number": 52
    },
    {
     "cell_type": "code",
     "collapsed": false,
     "input": [
      "plays = [p for _,p in results]"
     ],
     "language": "python",
     "metadata": {},
     "outputs": [],
     "prompt_number": 56
    },
    {
     "cell_type": "code",
     "collapsed": false,
     "input": [
      "np.mean(train.plays)"
     ],
     "language": "python",
     "metadata": {},
     "outputs": [
      {
       "metadata": {},
       "output_type": "pyout",
       "prompt_number": 95,
       "text": [
        "253.01679621950879"
       ]
      }
     ],
     "prompt_number": 95
    },
    {
     "cell_type": "code",
     "collapsed": false,
     "input": [
      "np.mean(plays)"
     ],
     "language": "python",
     "metadata": {},
     "outputs": [
      {
       "metadata": {},
       "output_type": "pyout",
       "prompt_number": 96,
       "text": [
        "262.24765742806989"
       ]
      }
     ],
     "prompt_number": 96
    },
    {
     "cell_type": "code",
     "collapsed": false,
     "input": [
      "# sort results by id\n",
      "results.sort(key=lambda (i,_) : i)\n",
      "results"
     ],
     "language": "python",
     "metadata": {},
     "outputs": [
      {
       "metadata": {},
       "output_type": "pyout",
       "prompt_number": 55,
       "text": [
        "[(1, 450.65469374375624),\n",
        " (2, 218.51187139958424),\n",
        " (3, 214.3125),\n",
        " (4, 233.71428571428572),\n",
        " (5, 226.478125),\n",
        " (6, 379.5801624497794),\n",
        " (7, 1354.2541666666666),\n",
        " (8, 332.2497023809524),\n",
        " (9, 295.8107142857143),\n",
        " (10, 191.6429076953748),\n",
        " (11, 101.86875),\n",
        " (12, 29.28125),\n",
        " (13, 78.52895108363859),\n",
        " (14, 244.074897589138),\n",
        " (15, 230.734375),\n",
        " (16, 517.4375),\n",
        " (17, 328.94003322370656),\n",
        " (18, 376.6875),\n",
        " (19, 266.90860764699926),\n",
        " (20, 371.9447916666666),\n",
        " (21, 319.00625),\n",
        " (22, 1137.9375),\n",
        " (23, 256.98658588493606),\n",
        " (24, 204.05062210522854),\n",
        " (25, 239.22837211959316),\n",
        " (26, 437.78847853535353),\n",
        " (27, 67.10208333333333),\n",
        " (28, 105.94191631958003),\n",
        " (29, 142.4794034090909),\n",
        " (30, 482.25),\n",
        " (31, 250.5176282051282),\n",
        " (32, 199.60131520021542),\n",
        " (33, 757.8645833333334),\n",
        " (34, 362.78731737012987),\n",
        " (35, 111.45833333333333),\n",
        " (36, 254.83410213894703),\n",
        " (37, 474.46666666666664),\n",
        " (38, 350.710441042399),\n",
        " (39, 371.8651786859521),\n",
        " (40, 62.06047077922078),\n",
        " (41, 100.6041756854257),\n",
        " (42, 57.0),\n",
        " (43, 311.58333333333337),\n",
        " (44, 258.95369803807307),\n",
        " (45, 731.7916666666667),\n",
        " (46, 256.91249999999997),\n",
        " (47, 228.03624164696444),\n",
        " (48, 58.3125),\n",
        " (49, 97.8625),\n",
        " (50, 50.4375),\n",
        " (51, 159.60833333333335),\n",
        " (52, 258.1631695785138),\n",
        " (53, 142.83019029581527),\n",
        " (54, 726.5),\n",
        " (55, 293.45833333333337),\n",
        " (56, 42.60691964285714),\n",
        " (57, 329.26822916666663),\n",
        " (58, 263.3178584258093),\n",
        " (59, 108.47642250519088),\n",
        " (60, 583.8104166666667),\n",
        " (61, 138.625),\n",
        " (62, 283.8646241434037),\n",
        " (63, 138.75),\n",
        " (64, 217.26041666666666),\n",
        " (65, 458.1625),\n",
        " (66, 342.1485119047619),\n",
        " (67, 190.10520833333334),\n",
        " (68, 468.6875),\n",
        " (69, 117.1875),\n",
        " (70, 232.36057190841922),\n",
        " (71, 159.2188244047619),\n",
        " (72, 124.83328577691086),\n",
        " (73, 214.7734375),\n",
        " (74, 313.65023310023315),\n",
        " (75, 367.16826388677373),\n",
        " (76, 397.23741319444446),\n",
        " (77, 127.27994791666667),\n",
        " (78, 636.25),\n",
        " (79, 374.88541666666663),\n",
        " (80, 7066.9375),\n",
        " (81, 1276.34375),\n",
        " (82, 96.25104166666668),\n",
        " (83, 234.2875),\n",
        " (84, 52.97916666666667),\n",
        " (85, 138.83333333333334),\n",
        " (86, 69.99375),\n",
        " (87, 136.39375),\n",
        " (88, 262.7752976190476),\n",
        " (89, 400.9791666666667),\n",
        " (90, 162.7540922619048),\n",
        " (91, 115.09791666666666),\n",
        " (92, 167.0625),\n",
        " (93, 175.60267857142858),\n",
        " (94, 277.12958829365084),\n",
        " (95, 87.71659226190476),\n",
        " (96, 1100.0473823051948),\n",
        " (97, 143.45982142857142),\n",
        " (98, 130.19791666666669),\n",
        " (99, 144.2835001803752),\n",
        " (100, 333.54263392857143),\n",
        " (101, 174.27580855487102),\n",
        " (102, 250.76835317460316),\n",
        " (103, 197.0),\n",
        " (104, 218.84692314425766),\n",
        " (105, 127.4131718975469),\n",
        " (106, 297.98589250423487),\n",
        " (107, 938.0277534522688),\n",
        " (108, 118.65625),\n",
        " (109, 311.8923611111111),\n",
        " (110, 68.34138566213386),\n",
        " (111, 140.81150202734793),\n",
        " (112, 370.02961309523806),\n",
        " (113, 143.4924107142857),\n",
        " (114, 463.8909069548872),\n",
        " (115, 304.0747271825397),\n",
        " (116, 251.79681488773736),\n",
        " (117, 629.2165378024753),\n",
        " (118, 403.8074404761905),\n",
        " (119, 154.9375),\n",
        " (120, 262.4375),\n",
        " (121, 144.6969768669545),\n",
        " (122, 133.9280175553613),\n",
        " (123, 229.43263888888887),\n",
        " (124, 45.202529761904756),\n",
        " (125, 159.89263392857143),\n",
        " (126, 180.91145833333334),\n",
        " (127, 355.62618371212125),\n",
        " (128, 85.19158497064156),\n",
        " (129, 349.6375),\n",
        " (130, 108.31431878306879),\n",
        " (131, 100.9041423853924),\n",
        " (132, 592.9151062117955),\n",
        " (133, 478.4168244949495),\n",
        " (134, 220.2993727951407),\n",
        " (135, 81.3125),\n",
        " (136, 193.91666666666666),\n",
        " (137, 83.4375),\n",
        " (138, 339.1730233710785),\n",
        " (139, 1707.4089673913043),\n",
        " (140, 204.3125),\n",
        " (141, 102.35074404761903),\n",
        " (142, 159.97696761250214),\n",
        " (143, 137.97916666666669),\n",
        " (144, 464.4011906008389),\n",
        " (145, 274.77796378968253),\n",
        " (146, 126.36882856726606),\n",
        " (147, 201.9583774906724),\n",
        " (148, 226.3125),\n",
        " (149, 71.15473710317461),\n",
        " (150, 284.26875),\n",
        " (151, 127.06634224939889),\n",
        " (152, 117.875),\n",
        " (153, 140.73276619392766),\n",
        " (154, 214.93131233272493),\n",
        " (155, 113.24657088094871),\n",
        " (156, 230.375),\n",
        " (157, 93.61789772727272),\n",
        " (158, 856.590302579365),\n",
        " (159, 102.76736111111111),\n",
        " (160, 82.40625),\n",
        " (161, 99.16354166666666),\n",
        " (162, 206.38316807783715),\n",
        " (163, 127.39583333333333),\n",
        " (164, 95.1125),\n",
        " (165, 116.81377823565322),\n",
        " (166, 444.9113343253968),\n",
        " (167, 277.73333333333335),\n",
        " (168, 204.40987787290385),\n",
        " (169, 241.36183035714288),\n",
        " (170, 185.49743018768513),\n",
        " (171, 31.089186507936507),\n",
        " (172, 132.01041666666666),\n",
        " (173, 287.71934523809523),\n",
        " (174, 185.10416666666669),\n",
        " (175, 320.84375),\n",
        " (176, 251.94342117903867),\n",
        " (177, 701.5456755050507),\n",
        " (178, 311.88541666666663),\n",
        " (179, 153.0625),\n",
        " (180, 267.25),\n",
        " (181, 59.50290925883757),\n",
        " (182, 85.44111487470863),\n",
        " (183, 600.742860769745),\n",
        " (184, 178.29114583333333),\n",
        " (185, 40.890625),\n",
        " (186, 295.8589285714285),\n",
        " (187, 333.565625),\n",
        " (188, 337.85729166666664),\n",
        " (189, 195.11295009814748),\n",
        " (190, 89.66761363636364),\n",
        " (191, 138.9375),\n",
        " (192, 175.43035714285713),\n",
        " (193, 260.85625),\n",
        " (194, 276.4126497269996),\n",
        " (195, 131.28854166666667),\n",
        " (196, 349.12188305170895),\n",
        " (197, 361.328125),\n",
        " (198, 151.84375),\n",
        " (199, 172.58333333333331),\n",
        " (200, 358.503125),\n",
        " (201, 156.74062500000002),\n",
        " (202, 254.16584821428575),\n",
        " (203, 92.28125),\n",
        " (204, 397.00001896292696),\n",
        " (205, 140.16542207792207),\n",
        " (206, 151.50729166666667),\n",
        " (207, 394.059071684894),\n",
        " (208, 404.48541666666665),\n",
        " (209, 282.83908942364826),\n",
        " (210, 110.11714240187655),\n",
        " (211, 644.3415096221078),\n",
        " (212, 141.58333333333334),\n",
        " (213, 725.9762152777778),\n",
        " (214, 89.775),\n",
        " (215, 188.38125),\n",
        " (216, 279.7432291666667),\n",
        " (217, 235.02083333333331),\n",
        " (218, 20.322123015873014),\n",
        " (219, 318.2916666666667),\n",
        " (220, 308.6553952991453),\n",
        " (221, 431.4084580350205),\n",
        " (222, 130.34598214285714),\n",
        " (223, 185.38750000000002),\n",
        " (224, 246.74479166666666),\n",
        " (225, 693.6766729797979),\n",
        " (226, 505.4583333333333),\n",
        " (227, 949.7000909391534),\n",
        " (228, 253.0109944471843),\n",
        " (229, 270.5032979305913),\n",
        " (230, 72.78420106617669),\n",
        " (231, 206.87287681598997),\n",
        " (232, 110.04512315245745),\n",
        " (233, 300.26383928571425),\n",
        " (234, 154.875),\n",
        " (235, 115.62365499084248),\n",
        " (236, 252.8025162337662),\n",
        " (237, 207.946875),\n",
        " (238, 75.8125),\n",
        " (239, 78.75520833333334),\n",
        " (240, 254.81026785714286),\n",
        " (241, 191.81654462587846),\n",
        " (242, 453.52083333333337),\n",
        " (243, 231.125),\n",
        " (244, 243.76098873928794),\n",
        " (245, 162.19375),\n",
        " (246, 285.3125),\n",
        " (247, 88.75),\n",
        " (248, 120.0),\n",
        " (249, 103.6875),\n",
        " (250, 70.23958333333333),\n",
        " (251, 477.27285449027636),\n",
        " (252, 185.54511105724342),\n",
        " (253, 511.34574636534774),\n",
        " (254, 249.89583333333331),\n",
        " (255, 442.20734126984127),\n",
        " (256, 307.25),\n",
        " (257, 88.71335074239488),\n",
        " (258, 255.91357571057878),\n",
        " (259, 125.44895833333332),\n",
        " (260, 195.7538519458604),\n",
        " (261, 272.7145526960784),\n",
        " (262, 456.31193181818185),\n",
        " (263, 181.61979166666666),\n",
        " (264, 90.02891042780749),\n",
        " (265, 182.9375),\n",
        " (266, 303.4572916666667),\n",
        " (267, 430.8072939781028),\n",
        " (268, 230.41666666666666),\n",
        " (269, 60.6),\n",
        " (270, 71.68303571428571),\n",
        " (271, 218.05208333333334),\n",
        " (272, 112.403125),\n",
        " (273, 504.375),\n",
        " (274, 373.3333333333333),\n",
        " (275, 219.26041666666666),\n",
        " (276, 189.58993047188582),\n",
        " (277, 58.94955357142856),\n",
        " (278, 222.86979166666669),\n",
        " (279, 211.46666666666667),\n",
        " (280, 211.57291666666666),\n",
        " (281, 241.51041666666666),\n",
        " (282, 80.90833333333333),\n",
        " (283, 131.10416666666669),\n",
        " (284, 227.36344246031751),\n",
        " (285, 261.1625),\n",
        " (286, 86.90625),\n",
        " (287, 230.25086354617605),\n",
        " (288, 264.52208644625983),\n",
        " (289, 99.625),\n",
        " (290, 135.6875),\n",
        " (291, 528.6024508477633),\n",
        " (292, 352.21875),\n",
        " (293, 43.908730158730165),\n",
        " (294, 907.2784840611928),\n",
        " (295, 178.14258952852705),\n",
        " (296, 355.9835027965227),\n",
        " (297, 262.4943654303487),\n",
        " (298, 216.00709134615383),\n",
        " (299, 178.11484648616022),\n",
        " (300, 151.91079858379229),\n",
        " (301, 388.80453869047625),\n",
        " (302, 713.796875),\n",
        " (303, 324.04017857142856),\n",
        " (304, 114.64702982507258),\n",
        " (305, 47.04873511904762),\n",
        " (306, 116.96112351190476),\n",
        " (307, 342.10484782937505),\n",
        " (308, 108.83802083333332),\n",
        " (309, 257.1097379689132),\n",
        " (310, 60.26979166666667),\n",
        " (311, 120.93229166666667),\n",
        " (312, 345.48958333333337),\n",
        " (313, 174.03125),\n",
        " (314, 268.8260416666667),\n",
        " (315, 331.90625000000006),\n",
        " (316, 211.5625),\n",
        " (317, 182.97956349206348),\n",
        " (318, 158.875),\n",
        " (319, 354.99345238095236),\n",
        " (320, 571.908161976912),\n",
        " (321, 57.46875),\n",
        " (322, 99.09375),\n",
        " (323, 154.5),\n",
        " (324, 182.92241925367225),\n",
        " (325, 116.13541666666667),\n",
        " (326, 222.60927755034382),\n",
        " (327, 136.98942064879566),\n",
        " (328, 332.1328125),\n",
        " (329, 157.08020833333336),\n",
        " (330, 191.16666666666666),\n",
        " (331, 79.3125),\n",
        " (332, 275.60255809855994),\n",
        " (333, 200.58333333333334),\n",
        " (334, 110.678125),\n",
        " (335, 93.9983630952381),\n",
        " (336, 36.80416666666666),\n",
        " (337, 618.5),\n",
        " (338, 126.99895012719327),\n",
        " (339, 97.0),\n",
        " (340, 531.9375),\n",
        " (341, 486.5625),\n",
        " (342, 192.84791666666666),\n",
        " (343, 77.3125),\n",
        " (344, 605.0871527141393),\n",
        " (345, 449.60550595238095),\n",
        " (346, 109.23557692307692),\n",
        " (347, 216.4),\n",
        " (348, 845.38125),\n",
        " (349, 436.64176353130307),\n",
        " (350, 161.62663690476188),\n",
        " (351, 869.0328125),\n",
        " (352, 269.51801375546535),\n",
        " (353, 126.1875),\n",
        " (354, 338.625),\n",
        " (355, 526.0625),\n",
        " (356, 231.14145183376993),\n",
        " (357, 470.8715277777777),\n",
        " (358, 177.36830357142858),\n",
        " (359, 245.56080115533737),\n",
        " (360, 129.21868686868686),\n",
        " (361, 234.80357142857144),\n",
        " (362, 217.5),\n",
        " (363, 281.6883826087705),\n",
        " (364, 136.71389041793137),\n",
        " (365, 198.8269775080849),\n",
        " (366, 315.08832105394606),\n",
        " (367, 201.03125),\n",
        " (368, 197.1960411846925),\n",
        " (369, 189.59730113636363),\n",
        " (370, 76.21145833333333),\n",
        " (371, 297.33229166666666),\n",
        " (372, 149.4035082972583),\n",
        " (373, 123.66338383838384),\n",
        " (374, 71867.5),\n",
        " (375, 390.3552236937106),\n",
        " (376, 481.16250000000014),\n",
        " (377, 117.10291687479187),\n",
        " (378, 237.81629464285712),\n",
        " (379, 140.64329212454214),\n",
        " (380, 178.15625),\n",
        " (381, 192.625),\n",
        " (382, 235.40147020145207),\n",
        " (383, 343.5969391719392),\n",
        " (384, 155.63541666666666),\n",
        " (385, 285.0435763888889),\n",
        " (386, 191.52083333333331),\n",
        " (387, 419.21726179779733),\n",
        " (388, 103.0625),\n",
        " (389, 543.3528251262627),\n",
        " (390, 154.13541666666666),\n",
        " (391, 191.9635912698413),\n",
        " (392, 256.40756448412696),\n",
        " (393, 228.31879283910533),\n",
        " (394, 296.51208062770564),\n",
        " (395, 138.47799873737372),\n",
        " (396, 231.61224478646352),\n",
        " (397, 334.70833333333337),\n",
        " (398, 291.625),\n",
        " (399, 368.94046335608834),\n",
        " (400, 183.88958333333335),\n",
        " (401, 114.1907738095238),\n",
        " (402, 513.63125),\n",
        " (403, 92.61420454545454),\n",
        " (404, 272.65676181457434),\n",
        " (405, 224.809375),\n",
        " (406, 238.59094332327425),\n",
        " (407, 139.5),\n",
        " (408, 178.5),\n",
        " (409, 334.4548746392497),\n",
        " (410, 1242.988872540841),\n",
        " (411, 120.5875),\n",
        " (412, 248.9375),\n",
        " (413, 245.92187349742602),\n",
        " (414, 168.31799693535177),\n",
        " (415, 291.7648226773227),\n",
        " (416, 68.89583333333333),\n",
        " (417, 136.25),\n",
        " (418, 582.28125),\n",
        " (419, 123.29583333333335),\n",
        " (420, 326.74851190476187),\n",
        " (421, 228.62340796789093),\n",
        " (422, 301.67948615399996),\n",
        " (423, 44.591354218697965),\n",
        " (424, 197.73958333333334),\n",
        " (425, 274.0324103526067),\n",
        " (426, 284.375),\n",
        " (427, 132.50833333333333),\n",
        " (428, 215.640625),\n",
        " (429, 138.14583333333334),\n",
        " (430, 137.0625),\n",
        " (431, 414.66666666666663),\n",
        " (432, 260.2240327380953),\n",
        " (433, 233.17640472793676),\n",
        " (434, 177.93616071428573),\n",
        " (435, 210.30208333333331),\n",
        " (436, 103.3480921855922),\n",
        " (437, 297.77083333333337),\n",
        " (438, 204.01351686507937),\n",
        " (439, 446.60520833333334),\n",
        " (440, 133.38482142857143),\n",
        " (441, 305.96841856060604),\n",
        " (442, 1156.0625),\n",
        " (443, 269.39650733497564),\n",
        " (444, 164.84895833333334),\n",
        " (445, 139.263713023088),\n",
        " (446, 357.4198863636364),\n",
        " (447, 151.3659864898498),\n",
        " (448, 222.89112522708646),\n",
        " (449, 142.54743917109903),\n",
        " (450, 81.21875),\n",
        " (451, 54.3125),\n",
        " (452, 69.56666666666666),\n",
        " (453, 229.30882936507936),\n",
        " (454, 156.98125),\n",
        " (455, 1342.315625),\n",
        " (456, 376.9848260246698),\n",
        " (457, 28438.716145833332),\n",
        " (458, 194.5964285714286),\n",
        " (459, 33.55),\n",
        " (460, 242.0239678162932),\n",
        " (461, 107.03411172161174),\n",
        " (462, 287.2428412381776),\n",
        " (463, 131.171875),\n",
        " (464, 202.29131944444447),\n",
        " (465, 124.23340773809524),\n",
        " (466, 110.13541666666666),\n",
        " (467, 251.8677785365649),\n",
        " (468, 59.00625),\n",
        " (469, 94.0),\n",
        " (470, 126.46517857142857),\n",
        " (471, 427.9044146825397),\n",
        " (472, 202.54166666666669),\n",
        " (473, 234.40055099618513),\n",
        " (474, 268.6311543752214),\n",
        " (475, 147.75247408841156),\n",
        " (476, 344.8785342261905),\n",
        " (477, 116.34583333333333),\n",
        " (478, 241.57787923881676),\n",
        " (479, 369.17245901356654),\n",
        " (480, 255.12321428571425),\n",
        " (481, 78.1392361111111),\n",
        " (482, 176.12574404761904),\n",
        " (483, 179.7247023809524),\n",
        " (484, 401.779063985431),\n",
        " (485, 159.38255269036517),\n",
        " (486, 467.8018008033633),\n",
        " (487, 367.1171875),\n",
        " (488, 992.7291666666667),\n",
        " (489, 360.85116316984073),\n",
        " (490, 89.34496753246752),\n",
        " (491, 275.7698657884513),\n",
        " (492, 277.42545996609743),\n",
        " (493, 50.01634372571871),\n",
        " (494, 164.3439133190245),\n",
        " (495, 303.29166666666663),\n",
        " (496, 314.14427083333334),\n",
        " (497, 57.985119047619044),\n",
        " (498, 163.20833333333331),\n",
        " (499, 331.59375),\n",
        " (500, 296.71077553730584),\n",
        " (501, 460.54520782663934),\n",
        " (502, 403.575359107804),\n",
        " (503, 159.7854280001844),\n",
        " (504, 447.0885416666667),\n",
        " (505, 383.1406837406015),\n",
        " (506, 55.7125),\n",
        " (507, 444.75408155924316),\n",
        " (508, 62.622916666666676),\n",
        " (509, 175.00766369047616),\n",
        " (510, 250.41145833333334),\n",
        " (511, 135.8125),\n",
        " (512, 92.20333905421707),\n",
        " (513, 29.227083333333333),\n",
        " (514, 132.51767701763106),\n",
        " (515, 169.6586606612723),\n",
        " (516, 232.609375),\n",
        " (517, 44.28005952380952),\n",
        " (518, 110.99910714285714),\n",
        " (519, 267.28652458142346),\n",
        " (520, 171.84375),\n",
        " (521, 268.1),\n",
        " (522, 115.67901785714285),\n",
        " (523, 386.8997173267087),\n",
        " (524, 213.1),\n",
        " (525, 306.18159225257597),\n",
        " (526, 129.0),\n",
        " (527, 609.8916666666668),\n",
        " (528, 323.365625),\n",
        " (529, 295.82498511595736),\n",
        " (530, 111.59479166666667),\n",
        " (531, 220.25),\n",
        " (532, 379.5266672761414),\n",
        " (533, 182.92241925367225),\n",
        " (534, 80.109464000411),\n",
        " (535, 273.0496188719329),\n",
        " (536, 273.94485294117646),\n",
        " (537, 506.9479166666667),\n",
        " (538, 93.00066964285715),\n",
        " (539, 348.459375),\n",
        " (540, 171.4073373544432),\n",
        " (541, 219.296875),\n",
        " (542, 270.453125),\n",
        " (543, 393.4270833333333),\n",
        " (544, 158.91875),\n",
        " (545, 261.97768811050065),\n",
        " (546, 289.93520855383116),\n",
        " (547, 184.92101726398602),\n",
        " (548, 321.53988095238094),\n",
        " (549, 383.37916666666666),\n",
        " (550, 85.578125),\n",
        " (551, 98.75570436507937),\n",
        " (552, 281.42708333333337),\n",
        " (553, 135.125),\n",
        " (554, 231.55444555444555),\n",
        " (555, 162.8125),\n",
        " (556, 85.4296875),\n",
        " (557, 78.44415876977554),\n",
        " (558, 740.0822916666667),\n",
        " (559, 168.80409727794452),\n",
        " (560, 396.4049107142857),\n",
        " (561, 38.78125),\n",
        " (562, 299.2461251670371),\n",
        " (563, 427.2193903926869),\n",
        " (564, 102.95833333333334),\n",
        " (565, 129.22148578906697),\n",
        " (566, 158.675),\n",
        " (567, 127.6875),\n",
        " (568, 95.5625),\n",
        " (569, 227.40625),\n",
        " (570, 274.52261904761906),\n",
        " (571, 101.26458333333333),\n",
        " (572, 246.7125),\n",
        " (573, 413.16238313328927),\n",
        " (574, 453.44969336219333),\n",
        " (575, 133.56046626984127),\n",
        " (576, 420.73437500000006),\n",
        " (577, 201.6208333333333),\n",
        " (578, 492.8609375),\n",
        " (579, 226.453125),\n",
        " (580, 96.67403768106892),\n",
        " (581, 814.6067989565473),\n",
        " (582, 184.2902892246642),\n",
        " (583, 272.6996960048358),\n",
        " (584, 272.47324246933624),\n",
        " (585, 266.90625),\n",
        " (586, 339.30899556448753),\n",
        " (587, 205.91666666666669),\n",
        " (588, 92.98601190476191),\n",
        " (589, 125.06170574673864),\n",
        " (590, 340.646054753146),\n",
        " (591, 515.2321428571429),\n",
        " (592, 63.504315476190484),\n",
        " (593, 1166.0729166666665),\n",
        " (594, 95.6875),\n",
        " (595, 169.6586606612723),\n",
        " (596, 160.7531433894945),\n",
        " (597, 420.0859651319355),\n",
        " (598, 158.44631112688813),\n",
        " (599, 156.47946567831676),\n",
        " (600, 244.69791666666666),\n",
        " (601, 103.2875),\n",
        " (602, 429.7244724893162),\n",
        " (603, 225.7373559844392),\n",
        " (604, 623.078125),\n",
        " (605, 189.498920140532),\n",
        " (606, 267.61806746773425),\n",
        " (607, 327.86458333333337),\n",
        " (608, 109.78125),\n",
        " (609, 235.16349557724945),\n",
        " (610, 39.64583333333333),\n",
        " (611, 374.41659218506777),\n",
        " (612, 160.75),\n",
        " (613, 323.8504554473304),\n",
        " (614, 398.0760416666667),\n",
        " (615, 97.42408685064935),\n",
        " (616, 197.3125),\n",
        " (617, 180.3296130952381),\n",
        " (618, 184.92708333333334),\n",
        " (619, 190.83092502037954),\n",
        " (620, 257.3415935924652),\n",
        " (621, 282.60357142857146),\n",
        " (622, 253.73143106893104),\n",
        " (623, 174.11513157894737),\n",
        " (624, 139.22395833333334),\n",
        " (625, 182.90233607951546),\n",
        " (626, 107.71461789778321),\n",
        " (627, 123.09298149766902),\n",
        " (628, 338.0401364212413),\n",
        " (629, 55.04856061184186),\n",
        " (630, 126.99895012719327),\n",
        " (631, 336.1969656021083),\n",
        " (632, 249.82021223342574),\n",
        " (633, 730.7401785714285),\n",
        " (634, 240.234375),\n",
        " (635, 130.359375),\n",
        " (636, 237.11638926841135),\n",
        " (637, 278.1400429410201),\n",
        " (638, 59.24097222222221),\n",
        " (639, 131.18937756322626),\n",
        " (640, 210.50130095598846),\n",
        " (641, 113.8125),\n",
        " (642, 238.45782306660098),\n",
        " (643, 182.01912202380953),\n",
        " (644, 160.44752435064936),\n",
        " (645, 448.9375),\n",
        " (646, 372.0070616883117),\n",
        " (647, 157.63980654761906),\n",
        " (648, 152.09343614989197),\n",
        " (649, 270.7846111931632),\n",
        " (650, 162.90554570199828),\n",
        " (651, 104.11160714285714),\n",
        " (652, 282.00344216059375),\n",
        " (653, 93.6875),\n",
        " (654, 187.86086309523807),\n",
        " (655, 230.03804922569978),\n",
        " (656, 238.07387577797235),\n",
        " (657, 156.84093790667742),\n",
        " (658, 179.01666666666665),\n",
        " (659, 270.0967842920968),\n",
        " (660, 188.59375),\n",
        " (661, 195.22291666666666),\n",
        " (662, 268.3147742105775),\n",
        " (663, 304.51540707337784),\n",
        " (664, 207.0336692638502),\n",
        " (665, 89.56875),\n",
        " (666, 136.3125),\n",
        " (667, 160.6035714285714),\n",
        " (668, 348.4393644881198),\n",
        " (669, 270.20281636777037),\n",
        " (670, 316.0833333333333),\n",
        " (671, 267.390625),\n",
        " (672, 116.54039994339804),\n",
        " (673, 96.37090773809523),\n",
        " (674, 245.06770833333334),\n",
        " (675, 60.64895833333333),\n",
        " (676, 206.60416666666666),\n",
        " (677, 113.55833333333334),\n",
        " (678, 326.3703137445842),\n",
        " (679, 74.31770833333334),\n",
        " (680, 89.6875),\n",
        " (681, 203.29791666666665),\n",
        " (682, 94.5309831661394),\n",
        " (683, 126.62152148292404),\n",
        " (684, 151.65902777777777),\n",
        " (685, 630.784375),\n",
        " (686, 269.9328256443173),\n",
        " (687, 279.18944699532454),\n",
        " (688, 302.11055627356126),\n",
        " (689, 355.1708333333333),\n",
        " (690, 186.63541666666669),\n",
        " (691, 164.70833333333331),\n",
        " (692, 287.42149860606133),\n",
        " (693, 113.33507858201392),\n",
        " (694, 229.35196844617803),\n",
        " (695, 159.8421762265512),\n",
        " (696, 266.1391119172992),\n",
        " (697, 238.7806379119408),\n",
        " (698, 77.92819361305276),\n",
        " (699, 204.1125),\n",
        " (700, 229.7679638806889),\n",
        " (701, 226.37916666666663),\n",
        " (702, 121.54166666666666),\n",
        " (703, 715.859375),\n",
        " (704, 185.20089285714286),\n",
        " (705, 145.7455639846265),\n",
        " (706, 166.1476721552549),\n",
        " (707, 228.65821636402327),\n",
        " (708, 464.97474731933653),\n",
        " (709, 363.8772321428571),\n",
        " (710, 307.70907353286646),\n",
        " (711, 401.90625),\n",
        " (712, 213.0078125),\n",
        " (713, 455.453017038413),\n",
        " (714, 255.4383270916138),\n",
        " (715, 114.0733630952381),\n",
        " (716, 130.86609172077922),\n",
        " (717, 469.936507936508),\n",
        " (718, 146.5),\n",
        " (719, 109.48541666666667),\n",
        " (720, 147.91827065295814),\n",
        " (721, 246.63816964285715),\n",
        " (722, 157.30833333333334),\n",
        " (723, 160.60555444388626),\n",
        " (724, 279.89006737757154),\n",
        " (725, 134.9375),\n",
        " (726, 120.27708333333334),\n",
        " (727, 77.39185606060607),\n",
        " (728, 145.07291666666669),\n",
        " (729, 159.22215197996448),\n",
        " (730, 197.1916666666667),\n",
        " (731, 65.24305555555556),\n",
        " (732, 429.8002976190476),\n",
        " (733, 150.828125),\n",
        " (734, 99.15625),\n",
        " (735, 152.12738095238097),\n",
        " (736, 256.9125),\n",
        " (737, 290.6688988095238),\n",
        " (738, 189.1875),\n",
        " (739, 155.4),\n",
        " (740, 285.23269074675324),\n",
        " (741, 135.02886904761905),\n",
        " (742, 186.5530753968254),\n",
        " (743, 157.86249999999998),\n",
        " (744, 560.9557291666666),\n",
        " (745, 171.33333333333334),\n",
        " (746, 208.67634246881084),\n",
        " (747, 110.11691468253969),\n",
        " (748, 100.96875),\n",
        " (749, 811.9599702380951),\n",
        " (750, 131.72916666666669),\n",
        " (751, 148.96875),\n",
        " (752, 165.01041666666669),\n",
        " (753, 61.625),\n",
        " (754, 216.34358766233765),\n",
        " (755, 323.55416449869574),\n",
        " (756, 211.8397435897436),\n",
        " (757, 381.08060897435894),\n",
        " (758, 227.18125),\n",
        " (759, 167.89576465770585),\n",
        " (760, 161.99531249999998),\n",
        " (761, 386.1212121212121),\n",
        " (762, 176.0129023488315),\n",
        " (763, 100.0),\n",
        " (764, 583.716435172528),\n",
        " (765, 384.5009825400762),\n",
        " (766, 130.34065075286054),\n",
        " (767, 525.3313988095238),\n",
        " (768, 106.11398809523808),\n",
        " (769, 244.5822953241611),\n",
        " (770, 109.4638418700967),\n",
        " (771, 198.08908504689754),\n",
        " (772, 443.3625),\n",
        " (773, 501.4375),\n",
        " (774, 43.86919642857143),\n",
        " (775, 400.6104166666667),\n",
        " (776, 183.04017857142856),\n",
        " (777, 276.4982917278977),\n",
        " (778, 147.4375),\n",
        " (779, 127.54375),\n",
        " (780, 154.81220238095239),\n",
        " (781, 360.2291666666667),\n",
        " (782, 137.875),\n",
        " (783, 248.68749819970557),\n",
        " (784, 229.34065087872654),\n",
        " (785, 102.696875),\n",
        " (786, 244.8336086728888),\n",
        " (787, 218.20699418596692),\n",
        " (788, 224.0),\n",
        " (789, 398.709339107286),\n",
        " (790, 170.83333333333334),\n",
        " (791, 200.18936011904762),\n",
        " (792, 751.4575033990911),\n",
        " (793, 162.90666590354087),\n",
        " (794, 741.2840627526465),\n",
        " (795, 513.6051709121678),\n",
        " (796, 205.85571441701344),\n",
        " (797, 211.53125),\n",
        " (798, 239.08137386005808),\n",
        " (799, 115.31114938830626),\n",
        " (800, 160.17407116554756),\n",
        " (801, 285.16699340587746),\n",
        " (802, 581.9228469567679),\n",
        " (803, 196.23871527777774),\n",
        " (804, 41.364583333333336),\n",
        " (805, 158.20355899034277),\n",
        " (806, 210.8979864728254),\n",
        " (807, 66.898463606934),\n",
        " (808, 153.48333333333335),\n",
        " (809, 186.7067708333333),\n",
        " (810, 189.2),\n",
        " (811, 291.78587835775335),\n",
        " (812, 186.24638973279045),\n",
        " (813, 229.01941296362733),\n",
        " (814, 295.90104166666663),\n",
        " (815, 168.95875),\n",
        " (816, 144.79621027961565),\n",
        " (817, 131.640625),\n",
        " (818, 1313.7375),\n",
        " (819, 278.9524673821549),\n",
        " (820, 155.025),\n",
        " (821, 275.7348958333334),\n",
        " (822, 225.2434523809524),\n",
        " (823, 164.45025112364863),\n",
        " (824, 638.0322916666667),\n",
        " (825, 106.70625),\n",
        " (826, 118.83125),\n",
        " (827, 1739.125),\n",
        " (828, 95.74479166666667),\n",
        " (829, 215.19375000000002),\n",
        " (830, 904.2486449314574),\n",
        " (831, 279.09097630820975),\n",
        " (832, 359.8037259615384),\n",
        " (833, 105.97712053571428),\n",
        " (834, 65.6875),\n",
        " (835, 99.20833333333333),\n",
        " (836, 243.31748511904763),\n",
        " (837, 284.9445075757576),\n",
        " (838, 165.1363014285962),\n",
        " (839, 130.35466738405253),\n",
        " (840, 141.01875),\n",
        " (841, 110.75),\n",
        " (842, 271.26041666666663),\n",
        " (843, 117.13683035714286),\n",
        " (844, 183.171875),\n",
        " (845, 445.0545565164693),\n",
        " (846, 84.72291666666666),\n",
        " (847, 224.53993055555554),\n",
        " (848, 690.9751680859888),\n",
        " (849, 134.62627129480416),\n",
        " (850, 202.15885416666669),\n",
        " (851, 138.57876301008852),\n",
        " (852, 352.8762756502739),\n",
        " (853, 147.30152384514633),\n",
        " (854, 460.803083028083),\n",
        " (855, 191.2153300140764),\n",
        " (856, 128.10669642857144),\n",
        " (857, 150.06994047619048),\n",
        " (858, 155.875),\n",
        " (859, 343.237185341909),\n",
        " (860, 111.25),\n",
        " (861, 53.645833333333336),\n",
        " (862, 223.81085663696683),\n",
        " (863, 341.45520833333336),\n",
        " (864, 291.01666666666665),\n",
        " (865, 1106.6494791666667),\n",
        " (866, 244.5625),\n",
        " (867, 187.975),\n",
        " (868, 378.23794642857143),\n",
        " (869, 547.8617413759489),\n",
        " (870, 124.38778289059618),\n",
        " (871, 619.8858497693577),\n",
        " (872, 138.46248872655121),\n",
        " (873, 117.26041666666666),\n",
        " (874, 240.0745624889669),\n",
        " (875, 130.22291666666666),\n",
        " (876, 465.484375),\n",
        " (877, 178.25),\n",
        " (878, 99.453125),\n",
        " (879, 197.99717261904763),\n",
        " (880, 585.1875),\n",
        " (881, 1302.5684695512819),\n",
        " (882, 132.14583333333334),\n",
        " (883, 164.7158457230108),\n",
        " (884, 151.5450911935287),\n",
        " (885, 269.70428630624923),\n",
        " (886, 266.512774181674),\n",
        " (887, 290.790625),\n",
        " (888, 366.3027935606061),\n",
        " (889, 451.0433083768881),\n",
        " (890, 129.625),\n",
        " (891, 406.71875),\n",
        " (892, 226.76874999999998),\n",
        " (893, 1023.59375),\n",
        " (894, 276.6502036619635),\n",
        " (895, 430.720493433281),\n",
        " (896, 260.5357886904762),\n",
        " (897, 216.06994047619048),\n",
        " (898, 102.06145833333335),\n",
        " (899, 368.4614650974026),\n",
        " (900, 256.6798859126984),\n",
        " (901, 130.7886028235288),\n",
        " (902, 324.79653393434114),\n",
        " (903, 203.7457405512998),\n",
        " (904, 274.7228341002757),\n",
        " (905, 47.828125),\n",
        " (906, 61.55682494588744),\n",
        " (907, 154.73541666666665),\n",
        " (908, 117.4875288364788),\n",
        " (909, 67.89583333333333),\n",
        " (910, 164.140625),\n",
        " (911, 190.54218827137936),\n",
        " (912, 127.37068963001867),\n",
        " (913, 132.60297568176148),\n",
        " (914, 782.5869047619047),\n",
        " (915, 112.8125),\n",
        " (916, 166.6163648237263),\n",
        " (917, 15.114583333333334),\n",
        " (918, 89.81483134920634),\n",
        " (919, 96.875),\n",
        " (920, 126.3191287878788),\n",
        " (921, 163.8828125),\n",
        " (922, 114.74925595238095),\n",
        " (923, 174.23333333333335),\n",
        " (924, 121.87916666666666),\n",
        " (925, 137.34557956570424),\n",
        " (926, 138.48055555555555),\n",
        " (927, 209.4205887862138),\n",
        " (928, 124.43148630981476),\n",
        " (929, 746.21701300586),\n",
        " (930, 135.78125000000003),\n",
        " (931, 134.9345982142857),\n",
        " (932, 149.52083333333331),\n",
        " (933, 347.5),\n",
        " (934, 39.666666666666664),\n",
        " (935, 330.9375),\n",
        " (936, 236.04283571716223),\n",
        " (937, 41.3125),\n",
        " (938, 207.57533114594165),\n",
        " (939, 157.0182330799683),\n",
        " (940, 218.03466795958812),\n",
        " (941, 179.46875),\n",
        " (942, 184.5),\n",
        " (943, 77.72916666666667),\n",
        " (944, 121.72005208333333),\n",
        " (945, 197.6875),\n",
        " (946, 253.33333333333334),\n",
        " (947, 416.82374108942935),\n",
        " (948, 199.5173595934089),\n",
        " (949, 113.9375),\n",
        " (950, 157.5013392857143),\n",
        " (951, 160.2623511904762),\n",
        " (952, 200.73045634920632),\n",
        " (953, 84.1175273943463),\n",
        " (954, 410.84375),\n",
        " (955, 642.1875),\n",
        " (956, 200.37429331339717),\n",
        " (957, 447.15),\n",
        " (958, 36.0625),\n",
        " (959, 163.375),\n",
        " (960, 252.1244318181818),\n",
        " (961, 142.53225280642562),\n",
        " (962, 276.80579004329),\n",
        " (963, 278.79495665372934),\n",
        " (964, 242.4640984771098),\n",
        " (965, 236.09375),\n",
        " (966, 377.60470628442766),\n",
        " (967, 289.96395537209355),\n",
        " (968, 161.0967261904762),\n",
        " (969, 639.7734374999999),\n",
        " (970, 160.53958333333333),\n",
        " (971, 127.97163825757576),\n",
        " (972, 198.04310609614225),\n",
        " (973, 50.82222222222223),\n",
        " (974, 124.56406614219117),\n",
        " (975, 187.14852317821067),\n",
        " (976, 459.4761904761905),\n",
        " (977, 301.4979166666667),\n",
        " (978, 146.13321078431372),\n",
        " (979, 129.9375),\n",
        " (980, 226.40959821428572),\n",
        " (981, 264.9895833333333),\n",
        " (982, 121.97355248917748),\n",
        " (983, 237.32574266210574),\n",
        " (984, 96.49759615384616),\n",
        " (985, 45.45550595238095),\n",
        " (986, 164.59928713894467),\n",
        " (987, 453.28333333333336),\n",
        " (988, 989.8226133892248),\n",
        " (989, 194.6875),\n",
        " (990, 88.0625),\n",
        " (991, 1881.086755952381),\n",
        " (992, 365.95714285714286),\n",
        " (993, 224.51533473437092),\n",
        " (994, 211.31699543686673),\n",
        " (995, 200.06321025328836),\n",
        " (996, 80.30744047619048),\n",
        " (997, 244.93027900515807),\n",
        " (998, 403.7749040835723),\n",
        " (999, 203.64940025252525),\n",
        " (1000, 259.0859375),\n",
        " ...]"
       ]
      }
     ],
     "prompt_number": 55
    },
    {
     "cell_type": "code",
     "collapsed": false,
     "input": [
      "# write out predictions\n",
      "import csv\n",
      "soln_file = \"results.csv\"\n",
      "with open(soln_file, 'w') as soln_fh:\n",
      "    soln_csv = csv.writer(soln_fh, delimiter=',', quotechar='\"', quoting=csv.QUOTE_MINIMAL)\n",
      "    soln_csv.writerow(['Id','plays'])\n",
      "    for i, p in results:\n",
      "        soln_csv.writerow([i, p])"
     ],
     "language": "python",
     "metadata": {},
     "outputs": [],
     "prompt_number": 69
    },
    {
     "cell_type": "code",
     "collapsed": false,
     "input": [
      "# construct the similarity matrix for the artistas\n",
      "artist_matrix = np.vstack([get_artist_feature(row) for _,row in artists.iterrows()])"
     ],
     "language": "python",
     "metadata": {},
     "outputs": [
      {
       "output_type": "stream",
       "stream": "stdout",
       "text": [
        "Could not find hotness for nan.\n",
        "Unable to find terms for nan.\n",
        "Could not find hotness for Freezepop."
       ]
      },
      {
       "output_type": "stream",
       "stream": "stdout",
       "text": [
        "\n",
        "Could not find hotness for nan.\n",
        "Unable to find terms for nan.\n",
        "Could not find hotness for Various Artists.\n",
        "Unable to find terms for Various Artists.\n",
        "Could not find hotness for nan.\n",
        "Unable to find terms for nan.\n",
        "Could not find hotness for nan."
       ]
      },
      {
       "output_type": "stream",
       "stream": "stdout",
       "text": [
        "\n",
        "Unable to find terms for nan.\n",
        "Could not find hotness for nan.\n",
        "Unable to find terms for nan.\n",
        "Could not find hotness for nan.\n",
        "Unable to find terms for nan.\n",
        "Could not find hotness for nan.\n",
        "Unable to find terms for nan.\n",
        "Could not find hotness for nan."
       ]
      },
      {
       "output_type": "stream",
       "stream": "stdout",
       "text": [
        "\n",
        "Unable to find terms for nan.\n",
        "Could not find hotness for !!!.\n",
        "Unable to find terms for !!!.\n",
        "Could not find hotness for nan.\n",
        "Unable to find terms for nan.\n",
        "Could not find hotness for Phish."
       ]
      },
      {
       "output_type": "stream",
       "stream": "stdout",
       "text": [
        "\n",
        "Could not find hotness for nan.\n",
        "Unable to find terms for nan.\n"
       ]
      }
     ],
     "prompt_number": 98
    },
    {
     "cell_type": "code",
     "collapsed": false,
     "input": [
      "def sim(X,Y):\n",
      "    '''\n",
      "    Given two matrices where each row represents an element, calculates the\n",
      "    distances between all pairs of elements i,j and returns a matrix D where\n",
      "    D_i,j is the distances between the pairs\n",
      "    '''\n",
      "    dist =  X.dot(X.T).diagonal() - 2*X.dot(Y.T) + Y.dot(Y.T).diagonal()\n",
      "    maxdist = np.max(dist)\n",
      "    \n",
      "    return dist / maxdist"
     ],
     "language": "python",
     "metadata": {},
     "outputs": [],
     "prompt_number": 99
    },
    {
     "cell_type": "code",
     "collapsed": false,
     "input": [
      "sim_matrix = sim(artist_matrix, artist_matrix)"
     ],
     "language": "python",
     "metadata": {},
     "outputs": [],
     "prompt_number": 100
    },
    {
     "cell_type": "code",
     "collapsed": false,
     "input": [
      "dump_data({'artist_similarity':sim_matrix})"
     ],
     "language": "python",
     "metadata": {},
     "outputs": [],
     "prompt_number": 88
    },
    {
     "cell_type": "code",
     "collapsed": false,
     "input": [
      "# let's make a nice covariance matrix of the feature set for the artists\n",
      "%matplotlib\n",
      "import seaborn as sns\n",
      "\n",
      "def make_corr_plot(d, title=\"plot\"):\n",
      "    f, ax = plt.subplots(figsize=(9, 9))\n",
      "    cmap = sns.diverging_palette(220, 10, as_cmap=True)\n",
      "    sns.corrplot(d, annot=False, sig_stars=False,\n",
      "                 diag_names=False, cmap=cmap, ax=ax)\n",
      "    f.tight_layout()\n",
      "    f.savefig(title)"
     ],
     "language": "python",
     "metadata": {},
     "outputs": [
      {
       "output_type": "stream",
       "stream": "stdout",
       "text": [
        "Using matplotlib backend: agg\n"
       ]
      }
     ],
     "prompt_number": 107
    },
    {
     "cell_type": "code",
     "collapsed": false,
     "input": [
      "make_corr_plot(artist_matrix)"
     ],
     "language": "python",
     "metadata": {},
     "outputs": [],
     "prompt_number": 108
    },
    {
     "cell_type": "code",
     "collapsed": false,
     "input": [
      "short_artist_matrix = np.vstack([get_artist_feature(row)[:10] for _,row in artists.iterrows()])"
     ],
     "language": "python",
     "metadata": {},
     "outputs": [
      {
       "output_type": "stream",
       "stream": "stdout",
       "text": [
        "Could not find hotness for nan.\n",
        "Unable to find terms for nan.\n",
        "Could not find hotness for Freezepop."
       ]
      },
      {
       "output_type": "stream",
       "stream": "stdout",
       "text": [
        "\n",
        "Could not find hotness for nan.\n",
        "Unable to find terms for nan.\n",
        "Could not find hotness for Various Artists.\n",
        "Unable to find terms for Various Artists.\n",
        "Could not find hotness for nan.\n",
        "Unable to find terms for nan.\n",
        "Could not find hotness for nan.\n",
        "Unable to find terms for nan.\n",
        "Could not find hotness for nan."
       ]
      },
      {
       "output_type": "stream",
       "stream": "stdout",
       "text": [
        "\n",
        "Unable to find terms for nan.\n",
        "Could not find hotness for nan.\n",
        "Unable to find terms for nan.\n",
        "Could not find hotness for nan.\n",
        "Unable to find terms for nan.\n",
        "Could not find hotness for nan.\n",
        "Unable to find terms for nan.\n",
        "Could not find hotness for !!!."
       ]
      },
      {
       "output_type": "stream",
       "stream": "stdout",
       "text": [
        "\n",
        "Unable to find terms for !!!.\n",
        "Could not find hotness for nan.\n",
        "Unable to find terms for nan.\n",
        "Could not find hotness for Phish."
       ]
      },
      {
       "output_type": "stream",
       "stream": "stdout",
       "text": [
        "\n",
        "Could not find hotness for nan.\n",
        "Unable to find terms for nan.\n"
       ]
      }
     ],
     "prompt_number": 111
    },
    {
     "cell_type": "code",
     "collapsed": false,
     "input": [
      "make_corr_plot(short_artist_matrix, \"Few Features\")"
     ],
     "language": "python",
     "metadata": {},
     "outputs": [],
     "prompt_number": 112
    },
    {
     "cell_type": "code",
     "collapsed": false,
     "input": [
      "user_matrix = np.vstack([get_user_feature(row) for _,row in users.iterrows()])"
     ],
     "language": "python",
     "metadata": {},
     "outputs": [],
     "prompt_number": 114
    },
    {
     "cell_type": "code",
     "collapsed": false,
     "input": [
      "make_corr_plot(user_matrix, \"User features\")"
     ],
     "language": "python",
     "metadata": {},
     "outputs": [],
     "prompt_number": 115
    },
    {
     "cell_type": "code",
     "collapsed": false,
     "input": [],
     "language": "python",
     "metadata": {},
     "outputs": []
    }
   ],
   "metadata": {}
  }
 ]
}