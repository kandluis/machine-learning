{
 "metadata": {
  "name": "",
  "signature": "sha256:6fb884089ac7027a48653e0c993dc91a82dba1c2d18649ab33e61dfdf8959d29"
 },
 "nbformat": 3,
 "nbformat_minor": 0,
 "worksheets": [
  {
   "cells": [
    {
     "cell_type": "code",
     "collapsed": false,
     "input": [
      "import numpy as np\n",
      "import pandas as pd\n",
      "%matplotlib inline\n",
      "import matplotlib.pyplot as plt\n",
      "import pickle\n",
      "\n",
      "from pyechonest import artist\n",
      "\n",
      "from pyechonest import config\n",
      "config.ECHO_NEST_API_KEY='EIVX1I4WCCD7FQRFV'\n"
     ],
     "language": "python",
     "metadata": {},
     "outputs": [],
     "prompt_number": 2
    },
    {
     "cell_type": "code",
     "collapsed": false,
     "input": [
      "similar_artists = pickle.load(open( \"similar_artists.p\", \"rb\" ))\n",
      "artist_hotness = pickle.load(open( \"artist_hotness.p\", \"rb\" ))\n",
      "no_matches = pickle.load(open( \"could_not_find.p\", \"rb\" ))\n"
     ],
     "language": "python",
     "metadata": {},
     "outputs": [],
     "prompt_number": 3
    },
    {
     "cell_type": "code",
     "collapsed": false,
     "input": [
      "train = pd.read_csv(\"train.csv\")\n",
      "test = pd.read_csv(\"test.csv\")"
     ],
     "language": "python",
     "metadata": {},
     "outputs": [],
     "prompt_number": 21
    },
    {
     "cell_type": "code",
     "collapsed": false,
     "input": [
      "artists = pd.read_csv(\"artists.csv\")\n",
      "profiles = pd.read_csv(\"profiles.csv\")\n",
      "\n",
      "#dictionary of artists \"hash\" to name to help interpret groups\n",
      "bands = {artists.artist[i]:artists.name[i] for i in xrange(len(artists))}"
     ],
     "language": "python",
     "metadata": {},
     "outputs": [],
     "prompt_number": 189
    },
    {
     "cell_type": "code",
     "collapsed": false,
     "input": [
      "#dictionary of artists \"hash\" to name to help interpret groups\n",
      "artist_names = {artists.artist[i]:artists.name[i] for i in xrange(len(artists))}\n",
      "artist_ids = {artists.name[i]:artists.artist[i] for i in xrange(len(artists))}\n",
      "names_array = np.array(artists.name)"
     ],
     "language": "python",
     "metadata": {},
     "outputs": [],
     "prompt_number": 79
    },
    {
     "cell_type": "code",
     "collapsed": false,
     "input": [
      "similar_names = {}\n",
      "for artist in similar_artists:\n",
      "    similar = [match.name for match in similar_artists[artist]]\n",
      "    similar_names[artist] = similar"
     ],
     "language": "python",
     "metadata": {},
     "outputs": [],
     "prompt_number": 14
    },
    {
     "cell_type": "code",
     "collapsed": false,
     "input": [
      "artist_medians = {}\n",
      "for artist in artists.artist:\n",
      "    artist_medians[artist] = np.median(train[train.artist == artist].plays)"
     ],
     "language": "python",
     "metadata": {},
     "outputs": [],
     "prompt_number": 26
    },
    {
     "cell_type": "code",
     "collapsed": false,
     "input": [
      "#pickle.dump(artist_medians, open( \"artist_medians.p\", \"wb\" ))"
     ],
     "language": "python",
     "metadata": {},
     "outputs": [],
     "prompt_number": 28
    },
    {
     "cell_type": "code",
     "collapsed": false,
     "input": [
      "_, user, artist= test.ix[0]"
     ],
     "language": "python",
     "metadata": {},
     "outputs": [
      {
       "metadata": {},
       "output_type": "pyout",
       "prompt_number": 36,
       "text": [
        "Id                                               1\n",
        "user      306e19cce2522fa2d39ff5dfc870992100ec22d2\n",
        "artist        4ac4e32b-bd18-402e-adad-ae00e72f8d85\n",
        "Name: 0, dtype: object"
       ]
      }
     ],
     "prompt_number": 36
    },
    {
     "cell_type": "code",
     "collapsed": false,
     "input": [
      "def predict_row(row):\n",
      "    _, user, artist= test.ix[row]\n",
      "    artist_id = [artist_ids[name] for name in similar_names[artist_names[artist]] if name in artist_ids]\n",
      "    \n",
      "    \n",
      "    \n",
      "    \n",
      "    \n",
      "    return artist_id"
     ],
     "language": "python",
     "metadata": {},
     "outputs": [],
     "prompt_number": 90
    },
    {
     "cell_type": "code",
     "collapsed": false,
     "input": [
      "user = test.ix[35000].user\n",
      "artists = predict_row(35000)"
     ],
     "language": "python",
     "metadata": {},
     "outputs": [],
     "prompt_number": 139
    },
    {
     "cell_type": "code",
     "collapsed": false,
     "input": [
      "print artist_names[artist]"
     ],
     "language": "python",
     "metadata": {},
     "outputs": [
      {
       "output_type": "stream",
       "stream": "stdout",
       "text": [
        "Keane\n"
       ]
      }
     ],
     "prompt_number": 142
    },
    {
     "cell_type": "code",
     "collapsed": false,
     "input": [
      "print"
     ],
     "language": "python",
     "metadata": {},
     "outputs": []
    },
    {
     "cell_type": "code",
     "collapsed": false,
     "input": [
      "for artist in train[train.user == user].artist:\n",
      "    print artist in artists"
     ],
     "language": "python",
     "metadata": {},
     "outputs": [
      {
       "output_type": "stream",
       "stream": "stdout",
       "text": [
        "False\n",
        "False\n",
        "False\n",
        "False\n",
        "False\n",
        "False\n",
        "False\n",
        "False\n",
        "False\n",
        "False\n",
        "False\n",
        "False\n",
        "False\n"
       ]
      }
     ],
     "prompt_number": 140
    },
    {
     "cell_type": "code",
     "collapsed": false,
     "input": [
      "[similar_names['The Kooks'] in artist_ids]"
     ],
     "language": "python",
     "metadata": {},
     "outputs": [
      {
       "ename": "TypeError",
       "evalue": "unhashable type: 'list'",
       "output_type": "pyerr",
       "traceback": [
        "\u001b[0;31m---------------------------------------------------------------------------\u001b[0m\n\u001b[0;31mTypeError\u001b[0m                                 Traceback (most recent call last)",
        "\u001b[0;32m<ipython-input-82-6192761d3d41>\u001b[0m in \u001b[0;36m<module>\u001b[0;34m()\u001b[0m\n\u001b[0;32m----> 1\u001b[0;31m \u001b[0;34m[\u001b[0m\u001b[0msimilar_names\u001b[0m\u001b[0;34m[\u001b[0m\u001b[0;34m'The Kooks'\u001b[0m\u001b[0;34m]\u001b[0m \u001b[0;32min\u001b[0m \u001b[0martist_ids\u001b[0m\u001b[0;34m]\u001b[0m\u001b[0;34m\u001b[0m\u001b[0m\n\u001b[0m",
        "\u001b[0;31mTypeError\u001b[0m: unhashable type: 'list'"
       ]
      }
     ],
     "prompt_number": 82
    },
    {
     "cell_type": "code",
     "collapsed": false,
     "input": [
      "artists[artists.name == 'Arctic Monkeys']"
     ],
     "language": "python",
     "metadata": {},
     "outputs": [
      {
       "html": [
        "<div style=\"max-height:1000px;max-width:1500px;overflow:auto;\">\n",
        "<table border=\"1\" class=\"dataframe\">\n",
        "  <thead>\n",
        "    <tr style=\"text-align: right;\">\n",
        "      <th></th>\n",
        "      <th>artist</th>\n",
        "      <th>name</th>\n",
        "    </tr>\n",
        "  </thead>\n",
        "  <tbody>\n",
        "    <tr>\n",
        "      <th>434</th>\n",
        "      <td> ada7a83c-e3e1-40f1-93f9-3e73dbc9298a</td>\n",
        "      <td> Arctic Monkeys</td>\n",
        "    </tr>\n",
        "  </tbody>\n",
        "</table>\n",
        "</div>"
       ],
       "metadata": {},
       "output_type": "pyout",
       "prompt_number": 49,
       "text": [
        "                                   artist            name\n",
        "434  ada7a83c-e3e1-40f1-93f9-3e73dbc9298a  Arctic Monkeys"
       ]
      }
     ],
     "prompt_number": 49
    },
    {
     "cell_type": "code",
     "collapsed": false,
     "input": [
      "similar_names['The Kooks'][1] == artists.name[434]"
     ],
     "language": "python",
     "metadata": {},
     "outputs": [
      {
       "metadata": {},
       "output_type": "pyout",
       "prompt_number": 58,
       "text": [
        "True"
       ]
      }
     ],
     "prompt_number": 58
    },
    {
     "cell_type": "code",
     "collapsed": false,
     "input": [
      "[(name in artist_ids) for name in similar_names[artist_names['ada7a83c-e3e1-40f1-93f9-3e73dbc9298a']]]"
     ],
     "language": "python",
     "metadata": {},
     "outputs": [
      {
       "metadata": {},
       "output_type": "pyout",
       "prompt_number": 84,
       "text": [
        "[True,\n",
        " True,\n",
        " True,\n",
        " True,\n",
        " True,\n",
        " True,\n",
        " True,\n",
        " True,\n",
        " True,\n",
        " False,\n",
        " True,\n",
        " True,\n",
        " True,\n",
        " True,\n",
        " True]"
       ]
      }
     ],
     "prompt_number": 84
    },
    {
     "cell_type": "code",
     "collapsed": false,
     "input": [
      "similar_names['The Kooks'][7]"
     ],
     "language": "python",
     "metadata": {},
     "outputs": [
      {
       "metadata": {},
       "output_type": "pyout",
       "prompt_number": 76,
       "text": [
        "u'Max\\xefmo Park'"
       ]
      }
     ],
     "prompt_number": 76
    },
    {
     "cell_type": "code",
     "collapsed": false,
     "input": [
      "artist_names;"
     ],
     "language": "python",
     "metadata": {},
     "outputs": [],
     "prompt_number": 469
    },
    {
     "cell_type": "code",
     "collapsed": false,
     "input": [
      "8000000.0/450000000"
     ],
     "language": "python",
     "metadata": {},
     "outputs": [
      {
       "metadata": {},
       "output_type": "pyout",
       "prompt_number": 86,
       "text": [
        "0.017777777777777778"
       ]
      }
     ],
     "prompt_number": 86
    },
    {
     "cell_type": "code",
     "collapsed": false,
     "input": [
      "artist_words = pickle.load(open( \"artist_terms.p\", \"rb\" ))\n"
     ],
     "language": "python",
     "metadata": {},
     "outputs": [],
     "prompt_number": 164
    },
    {
     "cell_type": "code",
     "collapsed": false,
     "input": [
      "artist_words['Audioslave'][0]['name']"
     ],
     "language": "python",
     "metadata": {},
     "outputs": [
      {
       "metadata": {},
       "output_type": "pyout",
       "prompt_number": 175,
       "text": [
        "u'rock'"
       ]
      }
     ],
     "prompt_number": 175
    },
    {
     "cell_type": "code",
     "collapsed": false,
     "input": [
      "terms"
     ],
     "language": "python",
     "metadata": {},
     "outputs": [
      {
       "metadata": {},
       "output_type": "pyout",
       "prompt_number": 158,
       "text": [
        "{2}"
       ]
      }
     ],
     "prompt_number": 158
    },
    {
     "cell_type": "code",
     "collapsed": false,
     "input": [
      "artist_terms = {}\n",
      "unique_terms = set([])\n",
      "for artist in artist_words:\n",
      "    terms = [match for match in artist_words[artist]]\n",
      "    stuff = [(thing['name'], thing['weight']) for thing in terms]\n",
      "    for thing in terms:\n",
      "        unique_terms.add(thing['name'])\n",
      "    artist_terms[artist] = stuff"
     ],
     "language": "python",
     "metadata": {},
     "outputs": [],
     "prompt_number": 177
    },
    {
     "cell_type": "code",
     "collapsed": false,
     "input": [
      "artist_terms"
     ],
     "language": "python",
     "metadata": {},
     "outputs": [
      {
       "ename": "NameError",
       "evalue": "name 'artist_terms' is not defined",
       "output_type": "pyerr",
       "traceback": [
        "\u001b[1;31m---------------------------------------------------------------------------\u001b[0m\n\u001b[1;31mNameError\u001b[0m                                 Traceback (most recent call last)",
        "\u001b[1;32m<ipython-input-1-7d02d93c460e>\u001b[0m in \u001b[0;36m<module>\u001b[1;34m()\u001b[0m\n\u001b[1;32m----> 1\u001b[1;33m \u001b[0martist_terms\u001b[0m\u001b[1;33m\u001b[0m\u001b[0m\n\u001b[0m",
        "\u001b[1;31mNameError\u001b[0m: name 'artist_terms' is not defined"
       ]
      }
     ],
     "prompt_number": 1
    },
    {
     "cell_type": "code",
     "collapsed": false,
     "input": [
      "len(unique_terms)"
     ],
     "language": "python",
     "metadata": {},
     "outputs": [
      {
       "metadata": {},
       "output_type": "pyout",
       "prompt_number": 180,
       "text": [
        "808"
       ]
      }
     ],
     "prompt_number": 180
    },
    {
     "cell_type": "code",
     "collapsed": false,
     "input": [
      "for data in train[train.user == profiles.user[0]].iterrows():\n",
      "    print bands[data[1].artist],  data[1].plays"
     ],
     "language": "python",
     "metadata": {},
     "outputs": [
      {
       "output_type": "stream",
       "stream": "stdout",
       "text": [
        " Andrew Lloyd Webber 60\n",
        "The Beatles 51\n",
        "Hello Saferide 156\n",
        "The Beach Boys 32\n",
        "Red Hot Chili Peppers 50\n",
        "Anna Ternheim 83\n",
        "Sufjan Stevens 136\n",
        "Queen 240\n",
        "Gavin DeGraw 54\n",
        "Foo Fighters 84\n",
        "Live 139\n",
        "Mika 41\n",
        "Blur 33\n",
        "The Cardigans 72\n",
        "Ane Brun 40\n",
        "Counting Crows 237\n",
        "Jos\u00e9 Gonz\u00e1lez 32\n",
        "Nirvana 66\n",
        "UB40 70\n",
        "Avril Lavigne 47\n"
       ]
      }
     ],
     "prompt_number": 201
    },
    {
     "cell_type": "code",
     "collapsed": false,
     "input": [
      "sum(train[train.user == profiles.user[0]].plays)"
     ],
     "language": "python",
     "metadata": {},
     "outputs": [
      {
       "metadata": {},
       "output_type": "pyout",
       "prompt_number": 211,
       "text": [
        "1723"
       ]
      }
     ],
     "prompt_number": 211
    },
    {
     "cell_type": "code",
     "collapsed": false,
     "input": [
      "no_matches"
     ],
     "language": "python",
     "metadata": {},
     "outputs": [
      {
       "metadata": {},
       "output_type": "pyout",
       "prompt_number": 215,
       "text": [
        "['f1a95c6b-fb2a-41a6-bfcb-2453fee2a38c',\n",
        " 'bb1f91d2-1b54-4ee5-b55a-626492a5904f',\n",
        " '9bf79f68-c064-44a1-8c2c-5764f1d7c016',\n",
        " '89ad4ac3-39f7-470e-963a-56509c546377',\n",
        " '4b179fe2-dfa5-40b1-b6db-b56dbc3b5f09',\n",
        " '10b7b68c-390d-469a-915b-40bac704f288',\n",
        " '5aca3051-afa2-4f5c-9974-cc9418482a58',\n",
        " 'b5da400c-9a62-4686-b6fe-91518e57ce5d',\n",
        " 'ae681605-2801-4120-9a48-e18752042306',\n",
        " '8f3f7fec-cabf-4366-9c31-06f204b402f5',\n",
        " 'f26c72d3-e52c-467b-b651-679c73d8e1a7',\n",
        " '64b86e99-b6ec-4fb1-a5cd-f95482d3b57a',\n",
        " 'e01646f2-2a04-450d-8bf2-0d993082e058',\n",
        " '5385c403-1c49-4f2f-9b98-7085b5c84371']"
       ]
      }
     ],
     "prompt_number": 215
    },
    {
     "cell_type": "code",
     "collapsed": false,
     "input": [
      "count = 0\n",
      "for i in xrange(len(no_matches)):\n",
      "    count = count + len(test[test.artist==no_matches[i]])"
     ],
     "language": "python",
     "metadata": {},
     "outputs": [],
     "prompt_number": 219
    },
    {
     "cell_type": "code",
     "collapsed": false,
     "input": [],
     "language": "python",
     "metadata": {},
     "outputs": [
      {
       "metadata": {},
       "output_type": "pyout",
       "prompt_number": 220,
       "text": [
        "11851"
       ]
      }
     ],
     "prompt_number": 220
    },
    {
     "cell_type": "code",
     "collapsed": false,
     "input": [
      "pickle.dump(artist_terms, open(\"clean_artist_terms.p\", \"wb\"))"
     ],
     "language": "python",
     "metadata": {},
     "outputs": [],
     "prompt_number": 222
    },
    {
     "cell_type": "code",
     "collapsed": false,
     "input": [
      "profiles.user"
     ],
     "language": "python",
     "metadata": {},
     "outputs": [
      {
       "metadata": {},
       "output_type": "pyout",
       "prompt_number": 226,
       "text": [
        "0     fa40b43298ba3f8aa52e8e8863faf2e2171e0b5d\n",
        "1     5909125332c108365a26ccf0ee62636eee08215c\n",
        "2     d1867cbda35e0d48e9a8390d9f5e079c9d99ea96\n",
        "3     63268cce0d68127729890c1691f62d5be5abd87c\n",
        "4     02871cd952d607ba69b64e2e107773012c708113\n",
        "5     0938eb3d1b449b480c4e2431c457f6ead7063a34\n",
        "6     e4c6b36e65db3d48474dd538fe74d2dbb5a2e79e\n",
        "7     b97479f9a563a5c43b423a976f51fd509e1ec5ba\n",
        "8     3bb020df0ff376dfdded4d5e63e2d35a50b3c535\n",
        "9     f3fb86c0f024f640cae3fb479f3a27e0dd499891\n",
        "10    ed3f59e940c08a34434ecb999cbb184bd4f3fe60\n",
        "11    84b0024025a9b85ac11250419f2223cd36171be7\n",
        "12    6af1f8a3748f2905913f1ef698d319fb39251200\n",
        "13    6f6061ee85758d2f28dc813793d10fc28cc7ab3e\n",
        "14    beb313d271e1b0aee0d43e2598ad606b97246151\n",
        "...\n",
        "233271    9c34997e5b77219785b9c34fc7733bc4612a53c8\n",
        "233272    bcdb72cc8c5c0109eaaeed326ff6f2d8205b2283\n",
        "233273    a1bca71ebc26a6374bee683d6bc6f50bda31c0cd\n",
        "233274    7574ac82d225d8c09e0fa56efb805b4cc44ca4dc\n",
        "233275    5a2f3cbe64c34f3941eb18e050a9fbef33b902bb\n",
        "233276    b8916697b5fecb4de815c8a265c9e1a6ea5f5f7c\n",
        "233277    8b583d8dac0c25313f1564c25b6f74693a0db2cc\n",
        "233278    7b32f67a47cb8ff53c2d0f6297b2329182828751\n",
        "233279    7e528097def0a178be1208993c4e9963b0a26c0c\n",
        "233280    99dbcbb090e46947efc47be63a7dd654466f6f00\n",
        "233281    1e0f096b96d437429f87bb69d4d9ec47846b2d9d\n",
        "233282    5b35a58cb51f890507c30d086121ef66b92b35f1\n",
        "233283    ebda8b6e7d5787c31bddbb4d4c08af80af2cdf3a\n",
        "233284    bc2eaff609707b14bca23e06fb5979ccd4994af1\n",
        "233285    118276dbaf61bc28a11bfc5abca1042de1990d83\n",
        "Name: user, Length: 233286, dtype: object"
       ]
      }
     ],
     "prompt_number": 226
    },
    {
     "cell_type": "code",
     "collapsed": false,
     "input": [
      "small_train = train[:5]"
     ],
     "language": "python",
     "metadata": {},
     "outputs": [],
     "prompt_number": 231
    },
    {
     "cell_type": "code",
     "collapsed": false,
     "input": [
      "#Get total playcounts for each user for training set\n",
      "\n",
      "user_playcounts = {}\n",
      "for row in train.iterrows():\n",
      "    if row[0] % 100000 == 0:\n",
      "        print row[0]\n",
      "    user = row[1].user\n",
      "    if user in user_playcounts:\n",
      "        user_playcounts[user] = user_playcounts[user] + row[1].plays\n",
      "    else:\n",
      "         user_playcounts[user]  = row[1].plays + 0.0"
     ],
     "language": "python",
     "metadata": {},
     "outputs": [],
     "prompt_number": 245
    },
    {
     "cell_type": "code",
     "collapsed": false,
     "input": [
      "#each \"point\" will be a 808 element array\n",
      "#following map from term to index\n",
      "i = 0\n",
      "term_index = {}\n",
      "for term in unique_terms:\n",
      "    term_index[term] = i\n",
      "    i = i + 1"
     ],
     "language": "python",
     "metadata": {},
     "outputs": [],
     "prompt_number": 248
    },
    {
     "cell_type": "code",
     "collapsed": false,
     "input": [
      "#likewise for users\n",
      "user_index = {}\n",
      "for row in profiles.iterrows():\n",
      "    user_index[row[1].user] = row[0]"
     ],
     "language": "python",
     "metadata": {},
     "outputs": [],
     "prompt_number": 257
    },
    {
     "cell_type": "code",
     "collapsed": false,
     "input": [
      "#likewise for users\n",
      "artist_index = {}\n",
      "for row in artists.iterrows():\n",
      "    artist_index[row[1].artist] = row[0]"
     ],
     "language": "python",
     "metadata": {},
     "outputs": [],
     "prompt_number": 296
    },
    {
     "cell_type": "code",
     "collapsed": false,
     "input": [
      "user_matrix = np.zeros((len(profiles), len(unique_terms)))"
     ],
     "language": "python",
     "metadata": {},
     "outputs": [],
     "prompt_number": 263
    },
    {
     "cell_type": "code",
     "collapsed": false,
     "input": [
      "subset = train[train.user == \"ed3f59e940c08a34434ecb999cbb184bd4f3fe60\"]\n",
      "subset.head()"
     ],
     "language": "python",
     "metadata": {},
     "outputs": [
      {
       "html": [
        "<div style=\"max-height:1000px;max-width:1500px;overflow:auto;\">\n",
        "<table border=\"1\" class=\"dataframe\">\n",
        "  <thead>\n",
        "    <tr style=\"text-align: right;\">\n",
        "      <th></th>\n",
        "      <th>user</th>\n",
        "      <th>artist</th>\n",
        "      <th>plays</th>\n",
        "    </tr>\n",
        "  </thead>\n",
        "  <tbody>\n",
        "    <tr>\n",
        "      <th>10134 </th>\n",
        "      <td> ed3f59e940c08a34434ecb999cbb184bd4f3fe60</td>\n",
        "      <td> 67f66c07-6e61-4026-ade5-7e782fad3a5d</td>\n",
        "      <td>  176</td>\n",
        "    </tr>\n",
        "    <tr>\n",
        "      <th>233503</th>\n",
        "      <td> ed3f59e940c08a34434ecb999cbb184bd4f3fe60</td>\n",
        "      <td> f4a31f0a-51dd-4fa7-986d-3095c40c5ed9</td>\n",
        "      <td>  140</td>\n",
        "    </tr>\n",
        "    <tr>\n",
        "      <th>262683</th>\n",
        "      <td> ed3f59e940c08a34434ecb999cbb184bd4f3fe60</td>\n",
        "      <td> d13f0f47-36f9-4661-87fe-2de56f45c649</td>\n",
        "      <td> 1253</td>\n",
        "    </tr>\n",
        "    <tr>\n",
        "      <th>749080</th>\n",
        "      <td> ed3f59e940c08a34434ecb999cbb184bd4f3fe60</td>\n",
        "      <td> 4449ccf6-c948-4d33-aa97-b6ad98ce4b5b</td>\n",
        "      <td>  210</td>\n",
        "    </tr>\n",
        "    <tr>\n",
        "      <th>910645</th>\n",
        "      <td> ed3f59e940c08a34434ecb999cbb184bd4f3fe60</td>\n",
        "      <td> 4b585938-f271-45e2-b19a-91c634b5e396</td>\n",
        "      <td>  347</td>\n",
        "    </tr>\n",
        "  </tbody>\n",
        "</table>\n",
        "</div>"
       ],
       "metadata": {},
       "output_type": "pyout",
       "prompt_number": 412,
       "text": [
        "                                            user  \\\n",
        "10134   ed3f59e940c08a34434ecb999cbb184bd4f3fe60   \n",
        "233503  ed3f59e940c08a34434ecb999cbb184bd4f3fe60   \n",
        "262683  ed3f59e940c08a34434ecb999cbb184bd4f3fe60   \n",
        "749080  ed3f59e940c08a34434ecb999cbb184bd4f3fe60   \n",
        "910645  ed3f59e940c08a34434ecb999cbb184bd4f3fe60   \n",
        "\n",
        "                                      artist  plays  \n",
        "10134   67f66c07-6e61-4026-ade5-7e782fad3a5d    176  \n",
        "233503  f4a31f0a-51dd-4fa7-986d-3095c40c5ed9    140  \n",
        "262683  d13f0f47-36f9-4661-87fe-2de56f45c649   1253  \n",
        "749080  4449ccf6-c948-4d33-aa97-b6ad98ce4b5b    210  \n",
        "910645  4b585938-f271-45e2-b19a-91c634b5e396    347  "
       ]
      }
     ],
     "prompt_number": 412
    },
    {
     "cell_type": "code",
     "collapsed": false,
     "input": [
      "a"
     ],
     "language": "python",
     "metadata": {},
     "outputs": [
      {
       "metadata": {},
       "output_type": "pyout",
       "prompt_number": 421,
       "text": [
        "{2}"
       ]
      }
     ],
     "prompt_number": 421
    },
    {
     "cell_type": "code",
     "collapsed": false,
     "input": [
      "#fill the user matrix\n",
      "flagged_artists = set([])\n",
      "for row in train.iterrows():\n",
      "    if row[0] % 200000 == 0:\n",
      "        print row[0]\n",
      "    artist = row[1].artist\n",
      "    user = row[1].user\n",
      "    plays = row[1].plays\n",
      "    user_idx = user_index[user]\n",
      "    try:\n",
      "        for term, weight in artist_terms[bands[artist]]:\n",
      "            user_matrix[user_idx][term_index[term]] +=  weight*plays\n",
      "    except:\n",
      "        flagged_artists.add(artist)"
     ],
     "language": "python",
     "metadata": {},
     "outputs": [
      {
       "output_type": "stream",
       "stream": "stdout",
       "text": [
        "0\n",
        "200000"
       ]
      },
      {
       "output_type": "stream",
       "stream": "stdout",
       "text": [
        "\n",
        "400000"
       ]
      },
      {
       "output_type": "stream",
       "stream": "stdout",
       "text": [
        "\n",
        "600000"
       ]
      },
      {
       "output_type": "stream",
       "stream": "stdout",
       "text": [
        "\n",
        "800000"
       ]
      },
      {
       "output_type": "stream",
       "stream": "stdout",
       "text": [
        "\n",
        "1000000"
       ]
      },
      {
       "output_type": "stream",
       "stream": "stdout",
       "text": [
        "\n",
        "1200000"
       ]
      },
      {
       "output_type": "stream",
       "stream": "stdout",
       "text": [
        "\n",
        "1400000"
       ]
      },
      {
       "output_type": "stream",
       "stream": "stdout",
       "text": [
        "\n",
        "1600000"
       ]
      },
      {
       "output_type": "stream",
       "stream": "stdout",
       "text": [
        "\n",
        "1800000"
       ]
      },
      {
       "output_type": "stream",
       "stream": "stdout",
       "text": [
        "\n",
        "2000000"
       ]
      },
      {
       "output_type": "stream",
       "stream": "stdout",
       "text": [
        "\n",
        "2200000"
       ]
      },
      {
       "output_type": "stream",
       "stream": "stdout",
       "text": [
        "\n",
        "2400000"
       ]
      },
      {
       "output_type": "stream",
       "stream": "stdout",
       "text": [
        "\n",
        "2600000"
       ]
      },
      {
       "output_type": "stream",
       "stream": "stdout",
       "text": [
        "\n",
        "2800000"
       ]
      },
      {
       "output_type": "stream",
       "stream": "stdout",
       "text": [
        "\n",
        "3000000"
       ]
      },
      {
       "output_type": "stream",
       "stream": "stdout",
       "text": [
        "\n",
        "3200000"
       ]
      },
      {
       "output_type": "stream",
       "stream": "stdout",
       "text": [
        "\n",
        "3400000"
       ]
      },
      {
       "output_type": "stream",
       "stream": "stdout",
       "text": [
        "\n",
        "3600000"
       ]
      },
      {
       "output_type": "stream",
       "stream": "stdout",
       "text": [
        "\n",
        "3800000"
       ]
      },
      {
       "output_type": "stream",
       "stream": "stdout",
       "text": [
        "\n",
        "4000000"
       ]
      },
      {
       "output_type": "stream",
       "stream": "stdout",
       "text": [
        "\n"
       ]
      }
     ],
     "prompt_number": 422
    },
    {
     "cell_type": "code",
     "collapsed": false,
     "input": [
      "artist_matrix = np.zeros((len(artists), len(unique_terms)))\n",
      "for artist in artists.artist:\n",
      "    artist_idx = artist_index[artist]\n",
      "    if bands[artist] in artist_terms:\n",
      "        for term, weight in artist_terms[bands[artist]]:\n",
      "            artist_matrix[artist_idx][term_index[term]] +=  weight\n",
      "    else: \n",
      "        print \"Could not add\", artist\n"
     ],
     "language": "python",
     "metadata": {},
     "outputs": [
      {
       "output_type": "stream",
       "stream": "stdout",
       "text": [
        "Could not add f1a95c6b-fb2a-41a6-bfcb-2453fee2a38c\n",
        "Could not add 9bf79f68-c064-44a1-8c2c-5764f1d7c016\n",
        "Could not add 89ad4ac3-39f7-470e-963a-56509c546377\n",
        "Could not add 4b179fe2-dfa5-40b1-b6db-b56dbc3b5f09\n",
        "Could not add 10b7b68c-390d-469a-915b-40bac704f288\n",
        "Could not add 5aca3051-afa2-4f5c-9974-cc9418482a58\n",
        "Could not add b5da400c-9a62-4686-b6fe-91518e57ce5d\n",
        "Could not add ae681605-2801-4120-9a48-e18752042306\n",
        "Could not add 8f3f7fec-cabf-4366-9c31-06f204b402f5\n",
        "Could not add f26c72d3-e52c-467b-b651-679c73d8e1a7\n",
        "Could not add 64b86e99-b6ec-4fb1-a5cd-f95482d3b57a\n",
        "Could not add 5385c403-1c49-4f2f-9b98-7085b5c84371\n"
       ]
      }
     ],
     "prompt_number": 382
    },
    {
     "cell_type": "code",
     "collapsed": false,
     "input": [
      "len(flagged_artists)"
     ],
     "language": "python",
     "metadata": {},
     "outputs": [
      {
       "metadata": {},
       "output_type": "pyout",
       "prompt_number": 424,
       "text": [
        "12"
       ]
      }
     ],
     "prompt_number": 424
    },
    {
     "cell_type": "code",
     "collapsed": false,
     "input": [
      "user_matrix[user_index[user]]"
     ],
     "language": "python",
     "metadata": {},
     "outputs": [
      {
       "metadata": {},
       "output_type": "pyout",
       "prompt_number": 383,
       "text": [
        "array([  350.95277673,     0.        ,     0.        ,     0.        ,\n",
        "         559.23645802,     0.        ,     0.        ,     0.        ,\n",
        "           0.        ,   144.12817391,     0.        ,  1014.82236261,\n",
        "        2066.42606827,     0.        ,     0.        ,     0.        ,\n",
        "         328.78603122,     0.        ,     0.        ,     0.        ,\n",
        "           0.        ,    26.95815574,     0.        ,    93.48616896,\n",
        "           0.        ,     0.        ,     0.        ,     0.        ,\n",
        "           0.        ,     0.        ,     0.        ,     0.        ,\n",
        "           0.        ,     0.        ,     0.        ,     0.        ,\n",
        "           0.        ,     0.        ,   310.71566069,     0.        ,\n",
        "           0.        ,   177.18302769,     0.        ,     0.        ,\n",
        "           0.        ,     0.        ,     0.        ,     0.        ,\n",
        "           0.        ,     0.        ,    62.66484707,     0.        ,\n",
        "           0.        ,     0.        ,     0.        ,     0.        ,\n",
        "           0.        ,     0.        ,   997.52099884,    96.50268187,\n",
        "        1341.7879714 ,     0.        ,  1438.98026332,     0.        ,\n",
        "           0.        ,     0.        ,     0.        ,   187.08446955,\n",
        "           0.        ,     0.        ,     0.        ,     0.        ,\n",
        "           0.        ,     0.        ,     0.        ,     0.        ,\n",
        "           0.        ,     0.        ,     0.        ,     0.        ,\n",
        "           0.        ,     0.        ,     0.        ,     0.        ,\n",
        "           0.        ,     0.        ,     0.        ,     0.        ,\n",
        "           0.        ,     0.        ,     0.        ,     0.        ,\n",
        "           0.        ,     0.        ,    75.85795335,     0.        ,\n",
        "           0.        ,     0.        ,     0.        ,    61.63228674,\n",
        "         233.43368592,     0.        ,     0.        ,     0.        ,\n",
        "         233.13785509,     0.        ,     0.        ,     0.        ,\n",
        "           0.        ,     0.        ,     0.        ,     0.        ,\n",
        "           0.        ,     0.        ,     0.        ,     0.        ,\n",
        "           0.        ,     0.        ,     0.        ,     0.        ,\n",
        "           0.        ,     0.        ,   275.10921459,     0.        ,\n",
        "           0.        ,     0.        ,     0.        ,    58.64988827,\n",
        "           0.        ,     0.        ,     0.        ,     0.        ,\n",
        "         745.63835696,     0.        ,     0.        ,   252.93401522,\n",
        "           0.        ,     0.        ,     0.        ,     0.        ,\n",
        "           0.        ,     0.        ,     0.        ,     0.        ,\n",
        "           0.        ,   824.45753802,     0.        ,     0.        ,\n",
        "           0.        ,     0.        ,   584.28620363,     0.        ,\n",
        "           0.        ,     0.        ,     0.        ,     0.        ,\n",
        "        1575.34455438,     0.        ,     0.        ,     0.        ,\n",
        "           0.        ,     0.        ,    34.06530589,     0.        ,\n",
        "           0.        ,     0.        ,     0.        ,     0.        ,\n",
        "          78.42462416,     0.        ,     0.        ,     0.        ,\n",
        "           0.        ,     0.        ,     0.        ,     0.        ,\n",
        "           0.        ,     0.        ,  1008.02137335,     0.        ,\n",
        "         540.13061528,     0.        ,     0.        ,     0.        ,\n",
        "         392.72536138,   241.17501655,     0.        ,  1476.90132219,\n",
        "          56.73346265,     0.        ,     0.        ,     0.        ,\n",
        "           0.        ,     0.        ,     0.        ,     0.        ,\n",
        "           0.        ,     0.        ,     0.        ,     0.        ,\n",
        "           0.        ,     0.        ,     0.        ,     0.        ,\n",
        "           0.        ,     0.        ,     0.        ,     0.        ,\n",
        "           0.        ,     0.        ,     0.        ,     0.        ,\n",
        "           0.        ,    56.52432185,     0.        ,   356.39663009,\n",
        "           0.        ,     0.        ,     0.        ,     0.        ,\n",
        "           0.        ,     0.        ,     0.        ,     0.        ,\n",
        "           0.        ,     0.        ,     0.        ,     0.        ,\n",
        "           0.        ,    80.47237019,     0.        ,     0.        ,\n",
        "           0.        ,     0.        ,     0.        ,     0.        ,\n",
        "           0.        ,     0.        ,     0.        ,     0.        ,\n",
        "           0.        ,     0.        ,     0.        ,     0.        ,\n",
        "           0.        ,     0.        ,     0.        ,  6753.72665997,\n",
        "           0.        ,     0.        ,     0.        ,     0.        ,\n",
        "         366.43249571,     0.        ,     0.        ,     0.        ,\n",
        "         412.53053511,     0.        ,     0.        ,     0.        ,\n",
        "        1518.54025515,     0.        ,     0.        ,     0.        ,\n",
        "           0.        ,     0.        ,     0.        ,     0.        ,\n",
        "         144.20741265,     0.        ,     0.        ,     0.        ,\n",
        "           0.        ,     0.        ,     0.        ,     0.        ,\n",
        "         498.48101183,     0.        ,   229.66915983,   178.99891881,\n",
        "           0.        ,     0.        ,     0.        ,    80.52613834,\n",
        "           0.        ,    57.6264674 ,     0.        ,     0.        ,\n",
        "           0.        ,     0.        ,  1346.05668549,     0.        ,\n",
        "           0.        ,     0.        ,     0.        ,     0.        ,\n",
        "           0.        ,   139.79558913,     0.        ,     0.        ,\n",
        "          60.28736166,     0.        ,     0.        ,     0.        ,\n",
        "           0.        ,     0.        ,     0.        ,     0.        ,\n",
        "           0.        ,     0.        ,   600.68668531,  2374.00141843,\n",
        "           0.        ,     0.        ,     0.        ,   197.50476685,\n",
        "         176.09816726,     0.        ,     0.        ,   388.81271711,\n",
        "           0.        ,     0.        ,     0.        ,     0.        ,\n",
        "           0.        ,     0.        ,     0.        ,     0.        ,\n",
        "           0.        ,     0.        ,     0.        ,     0.        ,\n",
        "           0.        ,     0.        ,     0.        ,     0.        ,\n",
        "           0.        ,     0.        ,     0.        ,     0.        ,\n",
        "           0.        ,     0.        ,     0.        ,     0.        ,\n",
        "           0.        ,     0.        ,    46.01217837,     0.        ,\n",
        "           0.        ,     0.        ,     0.        ,     0.        ,\n",
        "         153.22502118,     0.        ,     0.        ,     0.        ,\n",
        "           0.        ,     0.        ,   351.593844  ,     0.        ,\n",
        "          98.42696267,     0.        ,     0.        ,  1623.46102344,\n",
        "           0.        ,     0.        ,     0.        ,     0.        ,\n",
        "           0.        ,    56.32101879,     0.        ,     0.        ,\n",
        "         819.92644794,     0.        ,     0.        ,     0.        ,\n",
        "           0.        ,     0.        ,     0.        ,   120.96487457,\n",
        "         245.20806424,     0.        ,     0.        ,     0.        ,\n",
        "         257.27634231,     0.        ,     0.        ,     0.        ,\n",
        "           0.        ,     0.        ,     0.        ,     0.        ,\n",
        "           0.        ,     0.        ,     0.        ,     0.        ,\n",
        "         340.15837438,    78.86222873,     0.        ,     0.        ,\n",
        "           0.        ,     0.        ,     0.        ,     0.        ,\n",
        "           0.        ,     0.        ,     0.        ,     0.        ,\n",
        "           0.        ,     0.        ,   232.5994756 ,     0.        ,\n",
        "           0.        ,     0.        ,     0.        ,     0.        ,\n",
        "           0.        ,     0.        ,     0.        ,     0.        ,\n",
        "           0.        ,     0.        ,     0.        ,     0.        ,\n",
        "           0.        ,     0.        ,     0.        ,     0.        ,\n",
        "           0.        ,     0.        ,  1174.7296862 ,     0.        ,\n",
        "           0.        ,     0.        ,   125.47500793,     0.        ,\n",
        "           0.        ,     0.        ,     0.        ,     0.        ,\n",
        "           0.        ,     0.        ,     0.        ,     0.        ,\n",
        "         161.15528479,     0.        ,     0.        ,     0.        ,\n",
        "           0.        ,     0.        ,  2122.31545681,     0.        ,\n",
        "           0.        ,     0.        ,     0.        ,     0.        ,\n",
        "           0.        ,     0.        ,   480.1808959 ,   136.73698551,\n",
        "           0.        ,     0.        ,     0.        ,     0.        ,\n",
        "           0.        ,     0.        ,     0.        ,   129.80920239,\n",
        "           0.        ,     0.        ,   161.26752007,     0.        ,\n",
        "           0.        ,     0.        ,   267.7763915 ,     0.        ,\n",
        "           0.        ,     0.        ,   395.38045503,  1013.10656428,\n",
        "           0.        ,     0.        ,     0.        ,     0.        ,\n",
        "           0.        ,     0.        ,     0.        ,     0.        ,\n",
        "           0.        ,     0.        ,     0.        ,     0.        ,\n",
        "         385.63764725,     0.        ,     0.        ,     0.        ,\n",
        "           0.        ,     0.        ,   128.98311768,     0.        ,\n",
        "           0.        ,    77.21692189,     0.        ,  1622.31293318,\n",
        "           0.        ,     0.        ,     0.        ,  3914.45356773,\n",
        "           0.        ,     0.        ,     0.        ,   150.97374626,\n",
        "           0.        ,     0.        ,     0.        ,     0.        ,\n",
        "           0.        ,     0.        ,     0.        ,     0.        ,\n",
        "           0.        ,     0.        ,     0.        ,     0.        ,\n",
        "           0.        ,     0.        ,     0.        ,     0.        ,\n",
        "           0.        ,     0.        ,     0.        ,   193.01540851,\n",
        "           0.        ,   338.96833983,     0.        ,     0.        ,\n",
        "           0.        ,     0.        ,     0.        ,     0.        ,\n",
        "           0.        ,     0.        ,     0.        ,     0.        ,\n",
        "           0.        ,   232.22475338,     0.        ,     0.        ,\n",
        "           0.        ,     0.        ,   627.86651143,     0.        ,\n",
        "           0.        ,   978.52496214,     0.        ,     0.        ,\n",
        "           0.        ,     0.        ,     0.        ,     0.        ,\n",
        "           0.        ,     0.        ,     0.        ,     0.        ,\n",
        "         105.35437353,     0.        ,  1825.83809188,   109.85245623,\n",
        "         363.3696366 ,     0.        ,     0.        ,     0.        ,\n",
        "           0.        ,   786.27304598,     0.        ,     0.        ,\n",
        "           0.        ,     0.        ,     0.        ,     0.        ,\n",
        "           0.        ,     0.        ,     0.        ,     0.        ,\n",
        "           0.        ,     0.        ,     0.        ,     0.        ,\n",
        "           0.        ,     0.        ,     0.        ,     0.        ,\n",
        "           0.        ,     0.        ,     0.        ,     0.        ,\n",
        "           0.        ,     0.        ,     0.        ,     0.        ,\n",
        "           0.        ,     0.        ,     0.        ,     0.        ,\n",
        "           0.        ,     0.        ,     0.        ,     0.        ,\n",
        "           0.        ,     0.        ,  2566.21568849,     0.        ,\n",
        "         828.70647048,     0.        ,     0.        ,     0.        ,\n",
        "           0.        ,     0.        ,     0.        ,   745.14652994,\n",
        "         137.45462602,   671.37510378,     0.        ,   452.65664697,\n",
        "           0.        ,   900.81002301,     0.        ,   454.68495076,\n",
        "           0.        ,     0.        ,   110.85849674,     0.        ,\n",
        "           0.        ,     0.        ,     0.        ,     0.        ,\n",
        "           0.        ,     0.        ,     0.        ,     0.        ,\n",
        "           0.        ,     0.        ,     0.        ,     0.        ,\n",
        "           0.        ,     0.        ,     0.        ,     0.        ,\n",
        "         788.49635542,     0.        ,     0.        ,     0.        ,\n",
        "           0.        ,   134.27829281,     0.        ,     0.        ,\n",
        "           0.        ,     0.        ,     0.        ,     0.        ,\n",
        "           0.        ,     0.        ,     0.        ,     0.        ,\n",
        "           0.        ,   636.30601359,     0.        ,     0.        ,\n",
        "           0.        ,     0.        ,     0.        ,   194.3417614 ,\n",
        "           0.        ,   100.68275869,     0.        ,     0.        ,\n",
        "           0.        ,     0.        ,     0.        ,   383.9834865 ,\n",
        "           0.        ,     0.        ,     0.        ,     0.        ,\n",
        "           0.        ,   258.96331175,     0.        ,     0.        ,\n",
        "           0.        ,     0.        ,     0.        ,     0.        ,\n",
        "           0.        ,     0.        ,    40.45800372,     0.        ,\n",
        "           0.        ,     0.        ,     0.        ,     0.        ,\n",
        "           0.        ,     0.        ,     0.        ,     0.        ,\n",
        "           0.        ,     0.        ,     0.        ,   864.60339781,\n",
        "           0.        ,   239.02659214,     0.        ,     0.        ,\n",
        "           0.        ,     0.        ,   577.73159849,     0.        ,\n",
        "           0.        ,    51.61648607,     0.        ,     0.        ,\n",
        "           0.        ,     0.        ,     0.        ,     0.        ,\n",
        "           0.        ,     0.        ,     0.        ,     0.        ,\n",
        "           0.        ,     0.        ,     0.        ,     0.        ,\n",
        "           0.        ,     0.        ,   238.33635752,     0.        ,\n",
        "           0.        ,     0.        ,     0.        ,     0.        ,\n",
        "           0.        ,    43.38967835,     0.        ,     0.        ,\n",
        "           0.        ,     0.        ,     0.        ,     0.        ,\n",
        "           0.        ,     0.        ,     0.        ,     0.        ,\n",
        "           0.        ,     0.        ,     0.        ,     0.        ,\n",
        "           0.        ,     0.        ,     0.        ,     0.        ,\n",
        "           0.        ,     0.        ,     0.        ,     0.        ,\n",
        "           0.        ,     0.        ,     0.        ,     0.        ,\n",
        "           0.        ,     0.        ,     0.        ,     0.        ,\n",
        "           0.        ,     0.        ,     0.        ,     0.        ,\n",
        "         193.20205045,     0.        ,     0.        ,     0.        ,\n",
        "           0.        ,  1432.63536948,     0.        ,   494.14171681,\n",
        "           0.        ,     0.        ,     0.        ,     0.        ,\n",
        "           0.        ,     0.        ,     0.        ,     0.        ,\n",
        "           0.        ,     0.        ,     0.        ,     0.        ,\n",
        "           0.        ,     0.        ,    33.82023175,     0.        ,\n",
        "           0.        ,     0.        ,     0.        ,     0.        ,\n",
        "           0.        ,     0.        ,     0.        ,     0.        ])"
       ]
      }
     ],
     "prompt_number": 383
    },
    {
     "cell_type": "code",
     "collapsed": false,
     "input": [
      "np.dot(artist_matrix[artist_index[artist]], user_matrix[user_index[user]])"
     ],
     "language": "python",
     "metadata": {},
     "outputs": [
      {
       "metadata": {},
       "output_type": "pyout",
       "prompt_number": 384,
       "text": [
        "10464.236680789982"
       ]
      }
     ],
     "prompt_number": 384
    },
    {
     "cell_type": "code",
     "collapsed": false,
     "input": [
      "artist = \"fbcd7b29-455f-49e6-9c4f-8249d20a055e\""
     ],
     "language": "python",
     "metadata": {},
     "outputs": [],
     "prompt_number": 321
    },
    {
     "cell_type": "code",
     "collapsed": false,
     "input": [
      "factor = []\n",
      "error = []\n",
      "plays_array = []\n",
      "dot_prods = []\n",
      "for row in subset.iterrows():\n",
      "    user = row[1].user\n",
      "    artist, plays = row[1].artist, row[1].plays\n",
      "    print plays/np.dot(artist_matrix[artist_index[artist]], user_matrix[user_index[user]])\n",
      "    plays_array.append(plays)\n",
      "    dot_prods.append(np.dot(artist_matrix[artist_index[artist]], user_matrix[user_index[user]]))\n",
      "    factor.append(plays/np.dot(artist_matrix[artist_index[artist]], user_matrix[user_index[user]]))\n",
      "    error.append(abs(constant*np.dot(artist_matrix[artist_index[artist]], user_matrix[user_index[user]]) - plays))\n",
      "print np.mean(error)"
     ],
     "language": "python",
     "metadata": {},
     "outputs": [
      {
       "output_type": "stream",
       "stream": "stdout",
       "text": [
        "0.0116158314768\n",
        "0.0100778845679\n",
        "0.047497933679\n",
        "0.00947974535071\n",
        "0.0175858872538\n",
        "0.00788411384253\n",
        "0.00886000442058\n",
        "0.00983086596861\n",
        "0.0143106777637\n",
        "0.0258666556721\n",
        "0.00859597368749\n",
        "0.0222875306125\n",
        "0.0121694970112\n",
        "0.0288088327391\n",
        "0.0495989104044\n",
        "0.0165371079065\n",
        "0.0115766505037\n",
        "163.251468794\n"
       ]
      }
     ],
     "prompt_number": 465
    },
    {
     "cell_type": "code",
     "collapsed": false,
     "input": [
      "constant = np.mean(factor)"
     ],
     "language": "python",
     "metadata": {},
     "outputs": [],
     "prompt_number": 428
    },
    {
     "cell_type": "code",
     "collapsed": false,
     "input": [
      "constant = np.median(factor)"
     ],
     "language": "python",
     "metadata": {},
     "outputs": [],
     "prompt_number": 464
    },
    {
     "cell_type": "code",
     "collapsed": false,
     "input": [
      "constant = np.median(subset.plays)"
     ],
     "language": "python",
     "metadata": {},
     "outputs": [],
     "prompt_number": 392
    },
    {
     "cell_type": "code",
     "collapsed": false,
     "input": [
      "plays"
     ],
     "language": "python",
     "metadata": {},
     "outputs": [
      {
       "metadata": {},
       "output_type": "pyout",
       "prompt_number": 425,
       "text": [
        "553"
       ]
      }
     ],
     "prompt_number": 425
    },
    {
     "cell_type": "code",
     "collapsed": false,
     "input": [
      "plays_array"
     ],
     "language": "python",
     "metadata": {},
     "outputs": [
      {
       "metadata": {},
       "output_type": "pyout",
       "prompt_number": 432,
       "text": [
        "[176,\n",
        " 140,\n",
        " 1253,\n",
        " 210,\n",
        " 347,\n",
        " 188,\n",
        " 164,\n",
        " 157,\n",
        " 243,\n",
        " 410,\n",
        " 162,\n",
        " 410,\n",
        " 188,\n",
        " 412,\n",
        " 824,\n",
        " 239,\n",
        " 171]"
       ]
      }
     ],
     "prompt_number": 432
    },
    {
     "cell_type": "code",
     "collapsed": false,
     "input": [
      "dot_prods"
     ],
     "language": "python",
     "metadata": {},
     "outputs": [
      {
       "metadata": {},
       "output_type": "pyout",
       "prompt_number": 433,
       "text": [
        "[15151.734970657461,\n",
        " 13891.804282675892,\n",
        " 26380.094941970441,\n",
        " 22152.493788690379,\n",
        " 19731.731188263228,\n",
        " 23845.419251285217,\n",
        " 18510.148778148017,\n",
        " 15970.108889832205,\n",
        " 16980.3278372149,\n",
        " 15850.522201121734,\n",
        " 18846.032560075811,\n",
        " 18395.936594665218,\n",
        " 15448.461002713093,\n",
        " 14301.169496570648,\n",
        " 16613.268180306648,\n",
        " 14452.345679291107,\n",
        " 14771.111898524146]"
       ]
      }
     ],
     "prompt_number": 433
    },
    {
     "cell_type": "code",
     "collapsed": false,
     "input": [
      "from sklearn import linear_model"
     ],
     "language": "python",
     "metadata": {},
     "outputs": [],
     "prompt_number": 434
    },
    {
     "cell_type": "code",
     "collapsed": false,
     "input": [
      "model = linear_model.LinearRegression(fit_intercept=\"True\")\n",
      "model.fit(np.array(dot_prods), np.array(plays_array))"
     ],
     "language": "python",
     "metadata": {},
     "outputs": [
      {
       "metadata": {},
       "output_type": "pyout",
       "prompt_number": 454,
       "text": [
        "LinearRegression(copy_X=True, fit_intercept='True', normalize=False)"
       ]
      }
     ],
     "prompt_number": 454
    },
    {
     "cell_type": "code",
     "collapsed": false,
     "input": [
      "b = model.intercept_\n",
      "coef = model.coef_[0]"
     ],
     "language": "python",
     "metadata": {},
     "outputs": [],
     "prompt_number": 457
    },
    {
     "cell_type": "code",
     "collapsed": false,
     "input": [
      "dot_prods = [[dot_prod] for dot_prod in dot_prods]"
     ],
     "language": "python",
     "metadata": {},
     "outputs": [],
     "prompt_number": 449
    },
    {
     "cell_type": "code",
     "collapsed": false,
     "input": [
      "user_matrix"
     ],
     "language": "python",
     "metadata": {},
     "outputs": [
      {
       "metadata": {},
       "output_type": "pyout",
       "prompt_number": 471,
       "text": [
        "array([[  81.83936095,    0.        ,    0.        , ...,    0.        ,\n",
        "           0.        ,    0.        ],\n",
        "       [ 182.03429176,    0.        ,    0.        , ...,    0.        ,\n",
        "           0.        ,    0.        ],\n",
        "       [  20.33675475,    0.        ,    0.        , ...,    0.        ,\n",
        "           0.        ,    0.        ],\n",
        "       ..., \n",
        "       [  75.69919693,    0.        ,    0.        , ...,    0.        ,\n",
        "           0.        ,    0.        ],\n",
        "       [  72.79605711,    0.        ,    0.        , ...,    0.        ,\n",
        "           0.        ,    0.        ],\n",
        "       [ 127.42017054,    0.        ,    0.        , ...,    0.        ,\n",
        "           0.        ,    0.        ]])"
       ]
      }
     ],
     "prompt_number": 471
    },
    {
     "cell_type": "code",
     "collapsed": false,
     "input": [
      "pickle.dump( user_matrix, open( \"user_matrix_unscaled.p\", \"wb\" ) )"
     ],
     "language": "python",
     "metadata": {},
     "outputs": [],
     "prompt_number": 472
    },
    {
     "cell_type": "code",
     "collapsed": false,
     "input": [
      "pickle.dump( artist_matrix, open( \"artist_matrix.p\", \"wb\" ) )"
     ],
     "language": "python",
     "metadata": {},
     "outputs": [],
     "prompt_number": 473
    },
    {
     "cell_type": "code",
     "collapsed": false,
     "input": [],
     "language": "python",
     "metadata": {},
     "outputs": []
    }
   ],
   "metadata": {}
  }
 ]
}